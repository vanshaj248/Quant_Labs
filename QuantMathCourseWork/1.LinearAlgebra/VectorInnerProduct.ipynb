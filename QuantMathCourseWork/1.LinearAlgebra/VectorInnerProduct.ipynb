{
 "cells": [
  {
   "cell_type": "markdown",
   "id": "422d4237",
   "metadata": {},
   "source": [
    "Day 1: Vectors, Vector Spaces, and Inner Product Spaces\n",
    "Let me start with the core concepts and then give you today's practical problems.\n",
    "Key Concepts:\n",
    "* Vectors: Objects that have magnitude and direction, represented as arrays of numbers\n",
    "* Vector Spaces: Collections of vectors that can be added together and multiplied by scalars\n",
    "* Inner Product: A way to multiply vectors that gives a scalar (like dot product)\n",
    "* Norm: The \"length\" of a vector, often calculated as √(v·v)\n",
    "Today's Problems:\n",
    "Finance Problem: You're analyzing a portfolio with 4 assets. The daily returns over 5 days are represented as vectors:\n",
    "* Asset A: [0.02, -0.01, 0.03, 0.01, -0.02]\n",
    "* Asset B: [0.01, 0.02, -0.01, 0.02, 0.01]\n",
    "Calculate the correlation coefficient between these two assets using vector operations (hint: use inner products and norms).\n",
    "AI/ML Problem: In a recommendation system, user preferences are represented as vectors. User 1 likes genres with weights [4, 2, 1, 3] for [Action, Comedy, Drama, Sci-Fi], and User 2 has weights [3, 3, 2, 4]. Calculate the cosine similarity between these users to determine how similar their tastes are.\n",
    "Methods to use:\n",
    "* Inner product (dot product): a·b = Σ(aᵢbᵢ)\n",
    "* Vector norm: ||v|| = √(v·v)\n",
    "* Correlation coefficient: r = (a·b)/(||a|| × ||b||) after centering the data\n",
    "* Cosine similarity: cos(θ) = (a·b)/(||a|| × ||b||)\n",
    "Try these problems and when you're ready, type \"solve\" and I'll walk you through the step-by-step solutions!\n",
    "\n",
    "Finance Problem Solution: Portfolio Correlation\n",
    "Step 1: Set up the data\n",
    "* Asset A returns: [0.02, -0.01, 0.03, 0.01, -0.02]\n",
    "* Asset B returns: [0.01, 0.02, -0.01, 0.02, 0.01]\n",
    "Step 2: Calculate means\n",
    "* Mean of A: μₐ = (0.02 + (-0.01) + 0.03 + 0.01 + (-0.02))/5 = 0.03/5 = 0.006\n",
    "* Mean of B: μᵦ = (0.01 + 0.02 + (-0.01) + 0.02 + 0.01)/5 = 0.05/5 = 0.01\n",
    "Step 3: Center the data (subtract means)\n",
    "* A_centered = [0.02-0.006, -0.01-0.006, 0.03-0.006, 0.01-0.006, -0.02-0.006]\n",
    "* A_centered = [0.014, -0.016, 0.024, 0.004, -0.026]\n",
    "* B_centered = [0.01-0.01, 0.02-0.01, -0.01-0.01, 0.02-0.01, 0.01-0.01]\n",
    "* B_centered = [0, 0.01, -0.02, 0.01, 0]\n",
    "Step 4: Calculate inner product A_centered · B_centered = (0.014×0) + (-0.016×0.01) + (0.024×-0.02) + (0.004×0.01) + (-0.026×0) = 0 + (-0.00016) + (-0.00048) + 0.00004 + 0 = -0.0006\n",
    "Step 5: Calculate norms\n",
    "* ||A_centered||² = 0.014² + (-0.016)² + 0.024² + 0.004² + (-0.026)²\n",
    "* ||A_centered||² = 0.000196 + 0.000256 + 0.000576 + 0.000016 + 0.000676 = 0.00172\n",
    "* ||A_centered|| = √0.00172 ≈ 0.0415\n",
    "* ||B_centered||² = 0² + 0.01² + (-0.02)² + 0.01² + 0²\n",
    "* ||B_centered||² = 0 + 0.0001 + 0.0004 + 0.0001 + 0 = 0.0006\n",
    "* ||B_centered|| = √0.0006 ≈ 0.0245\n",
    "Step 6: Calculate correlation r = (A_centered · B_centered)/(||A_centered|| × ||B_centered||) r = -0.0006/(0.0415 × 0.0245) ≈ -0.0006/0.001017 ≈ -0.59\n",
    "\n",
    "AI/ML Problem Solution: Cosine Similarity\n",
    "Step 1: Set up user preference vectors\n",
    "* User 1: [4, 2, 1, 3] (Action, Comedy, Drama, Sci-Fi)\n",
    "* User 2: [3, 3, 2, 4]\n",
    "Step 2: Calculate inner product User1 · User2 = (4×3) + (2×3) + (1×2) + (3×4) = 12 + 6 + 2 + 12 = 32\n",
    "Step 3: Calculate norms\n",
    "* ||User1||² = 4² + 2² + 1² + 3² = 16 + 4 + 1 + 9 = 30\n",
    "* ||User1|| = √30 ≈ 5.477\n",
    "* ||User2||² = 3² + 3² + 2² + 4² = 9 + 9 + 4 + 16 = 38\n",
    "* ||User2|| = √38 ≈ 6.164\n",
    "Step 4: Calculate cosine similarity cos(θ) = (User1 · User2)/(||User1|| × ||User2||) cos(θ) = 32/(5.477 × 6.164) ≈ 32/33.75 ≈ 0.948\n",
    "\n",
    "Interpretation:\n",
    "* Finance: The correlation of -0.59 indicates a moderate negative correlation between assets A and B, which is good for diversification!\n",
    "* AI/ML: The cosine similarity of 0.948 is very high (close to 1), indicating these users have very similar preferences and would likely enjoy similar recommendations."
   ]
  },
  {
   "cell_type": "code",
   "execution_count": 1,
   "id": "124ae1c0",
   "metadata": {},
   "outputs": [
    {
     "name": "stdout",
     "output_type": "stream",
     "text": [
      "Pearson correlation: -0.5906\n",
      "Pearson correlation: -0.5906, p-value: 0.2943\n",
      "Spearman correlation: -0.5270, p-value: 0.3615\n",
      "Kendall's tau: -0.4472, p-value: 0.2963\n"
     ]
    }
   ],
   "source": [
    "\"\"\"Finance problem solution\"\"\"\n",
    "import numpy as np\n",
    "from scipy import stats\n",
    "import pandas as pd\n",
    "\n",
    "# Sample data\n",
    "x = np.array([0.02, -0.01, 0.03, 0.01, -0.02])\n",
    "y = np.array([0.01, 0.02, -0.01, 0.02, 0.01])\n",
    "\n",
    "# Pearson correlation coefficient (most common)\n",
    "pearson_corr = np.corrcoef(x, y)[0, 1]\n",
    "print(f\"Pearson correlation: {pearson_corr:.4f}\")\n",
    "\n",
    "# Using scipy for p-value as well\n",
    "pearson_corr, p_value = stats.pearsonr(x, y)\n",
    "print(f\"Pearson correlation: {pearson_corr:.4f}, p-value: {p_value:.4f}\")\n",
    "\n",
    "# Spearman correlation (rank-based)\n",
    "spearman_corr, p_value = stats.spearmanr(x, y)\n",
    "print(f\"Spearman correlation: {spearman_corr:.4f}, p-value: {p_value:.4f}\")\n",
    "\n",
    "# Kendall's tau (another rank-based method)\n",
    "kendall_corr, p_value = stats.kendalltau(x, y)\n",
    "print(f\"Kendall's tau: {kendall_corr:.4f}, p-value: {p_value:.4f}\")"
   ]
  },
  {
   "cell_type": "code",
   "execution_count": 2,
   "id": "b4346992",
   "metadata": {},
   "outputs": [
    {
     "name": "stdout",
     "output_type": "stream",
     "text": [
      "Cosine similarity: 0.9478\n",
      "Cosine distance: 0.0522\n"
     ]
    }
   ],
   "source": [
    "\"\"\"AI/ML problem solution\"\"\"\n",
    "from scipy.spatial.distance import cosine\n",
    "\n",
    "# Note: scipy's cosine function returns distance (1 - similarity)\n",
    "vector1 = [4, 2, 1, 3]\n",
    "vector2 = [3, 3, 2, 4]\n",
    "\n",
    "# Calculate cosine distance\n",
    "cosine_distance = cosine(vector1, vector2)\n",
    "\n",
    "# Convert to similarity\n",
    "cosine_sim = 1 - cosine_distance\n",
    "\n",
    "print(f\"Cosine similarity: {cosine_sim:.4f}\")\n",
    "print(f\"Cosine distance: {cosine_distance:.4f}\")"
   ]
  }
 ],
 "metadata": {
  "kernelspec": {
   "display_name": "Python 3",
   "language": "python",
   "name": "python3"
  },
  "language_info": {
   "codemirror_mode": {
    "name": "ipython",
    "version": 3
   },
   "file_extension": ".py",
   "mimetype": "text/x-python",
   "name": "python",
   "nbconvert_exporter": "python",
   "pygments_lexer": "ipython3",
   "version": "3.12.11"
  }
 },
 "nbformat": 4,
 "nbformat_minor": 5
}
