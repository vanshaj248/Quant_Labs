{
 "cells": [
  {
   "cell_type": "code",
   "execution_count": 11,
   "id": "c4aeac04",
   "metadata": {},
   "outputs": [
    {
     "name": "stderr",
     "output_type": "stream",
     "text": [
      "/var/folders/y5/g1x0tvb16bbf0rjf7219mhmh0000gn/T/ipykernel_4601/4217643595.py:12: FutureWarning: YF.download() has changed argument auto_adjust default to True\n",
      "  df = yf.download(ticker, start=start_date, end=end_date)\n",
      "[*********************100%***********************]  1 of 1 completed"
     ]
    },
    {
     "name": "stdout",
     "output_type": "stream",
     "text": [
      "\n",
      "Data saved to: /Users/vanshaj/Work/GitHub/Quant_Labs/Project/Exploratory Market Analysis/src/data/Equity/verizon_2024-04-01_to_2025-03-31.parquet\n",
      "\n",
      "Date range in data: 2024-04-01 00:00:00 to 2025-03-28 00:00:00\n",
      "Number of trading days: 250\n"
     ]
    },
    {
     "name": "stderr",
     "output_type": "stream",
     "text": [
      "\n"
     ]
    }
   ],
   "source": [
    "import yfinance as yf\n",
    "import pandas as pd\n",
    "\n",
    "# Verizon ticker symbol: VZ\n",
    "ticker = \"VZ\"\n",
    "\n",
    "# Define date range: April 1, 2024 to March 31, 2025\n",
    "start_date = \"2024-04-01\"\n",
    "end_date = \"2025-03-31\"\n",
    "\n",
    "# Download Verizon data\n",
    "df = yf.download(ticker, start=start_date, end=end_date)\n",
    "\n",
    "# Reset index to include Date as a column\n",
    "data = df.reset_index()\n",
    "\n",
    "# Save to parquet file\n",
    "filename = f\"/Users/vanshaj/Work/GitHub/Quant_Labs/Project/Exploratory Market Analysis/src/data/Equity/verizon_{start_date}_to_{end_date}.parquet\"\n",
    "data.to_parquet(filename, index=False)\n",
    "print(f\"\\nData saved to: {filename}\")\n",
    "\n",
    "# Additional info about the data\n",
    "print(f\"\\nDate range in data: {data['Date'].min()} to {data['Date'].max()}\")\n",
    "print(f\"Number of trading days: {len(data)}\")"
   ]
  },
  {
   "cell_type": "code",
   "execution_count": 12,
   "id": "06300569",
   "metadata": {},
   "outputs": [
    {
     "name": "stdout",
     "output_type": "stream",
     "text": [
      "Data saved successfully at: /Users/vanshaj/Work/GitHub/Quant_Labs/Project/Exploratory Market Analysis/src/data/Equity/BHARTIARTL_01-04-2024_to_31-03-2025.parquet\n",
      "Data saved successfully at: /Users/vanshaj/Work/GitHub/Quant_Labs/Project/Exploratory Market Analysis/src/data/Equity/IDEA_01-04-2024_to_31-03-2025.parquet\n"
     ]
    }
   ],
   "source": [
    "from nsepython import nsefetch\n",
    "import pandas as pd\n",
    "def get_equity_historical_data(symbol: str, series: str, start_date: str, end_date: str, save_folder: str):\n",
    "\n",
    "    # NSE API for historical equity data\n",
    "    url_equity = f\"https://www.nseindia.com/api/historical/cm/equity?symbol={symbol}&series=[%22{series}%22]&from={start_date}&to={end_date}\"\n",
    "\n",
    "    # Fetch data\n",
    "    data = nsefetch(url_equity)\n",
    "    df = pd.DataFrame(data['data'])\n",
    "\n",
    "    # Select useful columns\n",
    "    df = df[['CH_TIMESTAMP','CH_OPENING_PRICE','CH_TRADE_HIGH_PRICE',\n",
    "            'CH_TRADE_LOW_PRICE','CH_CLOSING_PRICE','CH_TOT_TRADED_QTY']]\n",
    "    # Rename columns\n",
    "    df.columns = ['Date','Open','High','Low','Close','Volume']\n",
    "\n",
    "    file_path = (f\"{save_folder}{symbol}_{start_date}_to_{end_date}.parquet\")\n",
    "\n",
    "    # Save as parquet\n",
    "    df.to_parquet(file_path, index=False)\n",
    "    print(f\"Data saved successfully at: {file_path}\")\n",
    "\n",
    "get_equity_historical_data(\"BHARTIARTL\",\"EQ\",\"01-04-2024\",\"31-03-2025\",\"/Users/vanshaj/Work/GitHub/Quant_Labs/Project/Exploratory Market Analysis/src/data/Equity/\")\n",
    "\n",
    "get_equity_historical_data(\"IDEA\",\"EQ\",\"01-04-2024\",\"31-03-2025\",\"/Users/vanshaj/Work/GitHub/Quant_Labs/Project/Exploratory Market Analysis/src/data/Equity/\")\n"
   ]
  },
  {
   "cell_type": "code",
   "execution_count": 14,
   "id": "4c5817d8",
   "metadata": {},
   "outputs": [
    {
     "name": "stderr",
     "output_type": "stream",
     "text": [
      "/var/folders/y5/g1x0tvb16bbf0rjf7219mhmh0000gn/T/ipykernel_4601/858316004.py:7: FutureWarning: YF.download() has changed argument auto_adjust default to True\n",
      "  df = yf.download(\"^GSPC\", start=start_date, end=end_date)\n",
      "[*********************100%***********************]  1 of 1 completed\n"
     ]
    }
   ],
   "source": [
    "import yfinance as yf\n",
    "import pandas as pd\n",
    "start_date = \"2024-04-01\"\n",
    "end_date = \"2025-03-31\"\n",
    "# Download S&P 500 data\n",
    "# S&P 500 ticker symbols: ^GSPC (Yahoo Finance) or SPX (Bloomberg format)\n",
    "df = yf.download(\"^GSPC\", start=start_date, end=end_date)\n",
    "\n",
    "# Reset index to include Date as a column\n",
    "data = df.reset_index()\n",
    "\n",
    "# Save to parquet file\n",
    "data.to_parquet(f\"/Users/vanshaj/Work/GitHub/Quant_Labs/Project/Exploratory Market Analysis/src/data/Indices/snp500_{start_date}_to_{end_date}.parquet\", index=False)\n"
   ]
  },
  {
   "cell_type": "code",
   "execution_count": 15,
   "id": "9b340b2f",
   "metadata": {},
   "outputs": [
    {
     "name": "stdout",
     "output_type": "stream",
     "text": [
      "Data saved successfully at: /Users/vanshaj/Work/GitHub/Quant_Labs/Project/Exploratory Market Analysis/src/data/Indices//NIFTY 50_01-04-2024_to_31-03-2025.parquet\n",
      "Data saved successfully at: /Users/vanshaj/Work/GitHub/Quant_Labs/Project/Exploratory Market Analysis/src/data/Indices//NIFTY BANK_01-04-2024_to_31-03-2025.parquet\n"
     ]
    }
   ],
   "source": [
    "def get_index_historical_data(index_type: str, start_date: str, end_date: str, save_folder: str):\n",
    "\n",
    "    # NSE API for historical indices data\n",
    "    url_indices = f\"https://www.nseindia.com/api/historical/indicesHistory?indexType={index_type}&from={start_date}&to={end_date}\"\n",
    "\n",
    "    # Fetch data\n",
    "    data = nsefetch(url_indices)\n",
    "\n",
    "    df_turnover = pd.DataFrame(data['data'].get('indexTurnoverRecords', []))\n",
    "    df_close = pd.DataFrame(data['data'].get('indexCloseOnlineRecords', []))\n",
    "\n",
    "    df = pd.concat([df_turnover, df_close], axis=1)\n",
    "    df = df[['EOD_TIMESTAMP', 'EOD_OPEN_INDEX_VAL', 'EOD_HIGH_INDEX_VAL',\n",
    "         'EOD_LOW_INDEX_VAL', 'EOD_CLOSE_INDEX_VAL', 'HIT_TRADED_QTY']]\n",
    "\n",
    "    # Rename columns\n",
    "    df.columns = ['Date','Open','High','Low','Close','Volume']\n",
    "\n",
    "    file_path = (f\"{save_folder}/{index_type}_{start_date}_to_{end_date}.parquet\")\n",
    "\n",
    "    # Save as parquet\n",
    "    df.to_parquet(file_path, index=False)\n",
    "    print(f\"Data saved successfully at: {file_path}\")\n",
    "get_index_historical_data(\"NIFTY 50\",\"01-04-2024\",\"31-03-2025\",\"/Users/vanshaj/Work/GitHub/Quant_Labs/Project/Exploratory Market Analysis/src/data/Indices/\")\n",
    "get_index_historical_data(\"NIFTY BANK\",\"01-04-2024\",\"31-03-2025\",\"/Users/vanshaj/Work/GitHub/Quant_Labs/Project/Exploratory Market Analysis/src/data/Indices/\")"
   ]
  },
  {
   "cell_type": "code",
   "execution_count": 16,
   "id": "e875384e",
   "metadata": {},
   "outputs": [
    {
     "name": "stderr",
     "output_type": "stream",
     "text": [
      "/var/folders/y5/g1x0tvb16bbf0rjf7219mhmh0000gn/T/ipykernel_4601/1489919492.py:7: FutureWarning: YF.download() has changed argument auto_adjust default to True\n",
      "  df = yf.download(\"^TNX\", start=start_date, end=end_date)\n",
      "[*********************100%***********************]  1 of 1 completed"
     ]
    },
    {
     "name": "stdout",
     "output_type": "stream",
     "text": [
      "\n",
      "Data saved to 'us_10yr_treasury_yield.parquet'\n"
     ]
    },
    {
     "name": "stderr",
     "output_type": "stream",
     "text": [
      "\n"
     ]
    }
   ],
   "source": [
    "import yfinance as yf\n",
    "import pandas as pd\n",
    "start_date = \"2024-04-01\"\n",
    "end_date = \"2025-03-31\"\n",
    "# Download 10-year US Treasury bond yield data\n",
    "# Main ticker: ^TNX (10-year Treasury note yield)\n",
    "df = yf.download(\"^TNX\", start=start_date, end=end_date)\n",
    "\n",
    "# Reset index to include Date as a column\n",
    "data = df.reset_index()\n",
    "\n",
    "\n",
    "# Save to parquet file\n",
    "data.to_parquet(f\"/Users/vanshaj/Work/GitHub/Quant_Labs/Project/Exploratory Market Analysis/src/data/Bonds/us_10yr_treasury_yield_{start_date}_to_{end_date}.parquet\", index=False)\n",
    "print(\"\\nData saved to 'us_10yr_treasury_yield.parquet'\")"
   ]
  },
  {
   "cell_type": "code",
   "execution_count": 3,
   "id": "29571bf4",
   "metadata": {},
   "outputs": [],
   "source": [
    "import investpy\n",
    "import pandas as pd\n",
    "\n",
    "# Define date range\n",
    "from_date = '01/04/2024'   # dd/mm/yyyy\n",
    "to_date   = '31/03/2025'\n",
    "\n",
    "# Fetch India 10Y G-Sec historical yields\n",
    "gsec_data = investpy.bonds.get_bond_historical_data(\n",
    "    bond='India 10Y',\n",
    "    from_date=from_date,\n",
    "    to_date=to_date\n",
    ")\n",
    "\n",
    "# Reset index for easier handling\n",
    "gsec_data = gsec_data.reset_index()\n",
    "\n",
    "gsec_data.to_parquet(\"/Users/vanshaj/Work/GitHub/Quant_Labs/Project/Exploratory Market Analysis/src/data/Bonds/india_10yr_gsec.parquet\", index=False)\n",
    "\n"
   ]
  },
  {
   "cell_type": "code",
   "execution_count": 4,
   "id": "3aecf4f0",
   "metadata": {},
   "outputs": [],
   "source": [
    "import investpy\n",
    "import pandas as pd\n",
    "\n",
    "# Define date range\n",
    "from_date = '01/04/2024'   # dd/mm/yyyy\n",
    "to_date   = '31/03/2025'\n",
    "\n",
    "# Fetch India 10Y G-Sec historical yields\n",
    "gsec_data = investpy.bonds.get_bond_historical_data(\n",
    "    bond='India 5Y',\n",
    "    from_date=from_date,\n",
    "    to_date=to_date\n",
    ")\n",
    "\n",
    "# Reset index for easier handling\n",
    "gsec_data = gsec_data.reset_index()\n",
    "\n",
    "gsec_data.to_parquet(\"/Users/vanshaj/Work/GitHub/Quant_Labs/Project/Exploratory Market Analysis/src/data/Bonds/india_5yr_gsec.parquet\", index=False)\n",
    "\n"
   ]
  },
  {
   "cell_type": "code",
   "execution_count": 7,
   "id": "29c5862d",
   "metadata": {},
   "outputs": [
    {
     "name": "stderr",
     "output_type": "stream",
     "text": [
      "/var/folders/y5/g1x0tvb16bbf0rjf7219mhmh0000gn/T/ipykernel_11220/2843642017.py:8: FutureWarning: YF.download() has changed argument auto_adjust default to True\n",
      "  gold = yf.download(ticker, start=\"2024-04-01\", end=\"2025-03-31\")\n",
      "[*********************100%***********************]  1 of 1 completed"
     ]
    },
    {
     "name": "stdout",
     "output_type": "stream",
     "text": [
      "Price        Date        Close         High          Low         Open Volume\n",
      "Ticker                    GC=F         GC=F         GC=F         GC=F   GC=F\n",
      "0      2024-04-01  2236.500000  2264.199951  2230.000000  2235.699951    400\n",
      "1      2024-04-02  2261.000000  2279.199951  2247.600098  2252.000000    435\n",
      "2      2024-04-03  2294.399902  2298.800049  2267.899902  2281.699951    285\n",
      "3      2024-04-04  2288.800049  2302.899902  2280.000000  2301.699951    251\n",
      "4      2024-04-05  2325.699951  2328.399902  2267.399902  2289.199951    344\n"
     ]
    },
    {
     "name": "stderr",
     "output_type": "stream",
     "text": [
      "\n"
     ]
    }
   ],
   "source": [
    "import yfinance as yf\n",
    "import pandas as pd\n",
    "\n",
    "# Symbol for COMEX Gold Futures\n",
    "ticker = \"GC=F\"\n",
    "\n",
    "# Fetch data between Apr 1, 2024 and Mar 31, 2025\n",
    "gold = yf.download(ticker, start=\"2024-04-01\", end=\"2025-03-31\")\n",
    "\n",
    "# Reset index for convenience\n",
    "gold = gold.reset_index()\n",
    "\n",
    "print(gold.head())\n",
    "gold.to_parquet(\"/Users/vanshaj/Work/GitHub/Quant_Labs/Project/Exploratory Market Analysis/src/data/Commoditiy/comex_gold_2024_2025.parquet\", index=False)"
   ]
  },
  {
   "cell_type": "code",
   "execution_count": 10,
   "id": "035536ba",
   "metadata": {},
   "outputs": [],
   "source": [
    "import investpy\n",
    "import pandas as pd\n",
    "\n",
    "# Define date range\n",
    "from_date = '01/04/2024'   # dd/mm/yyyy\n",
    "to_date   = '31/03/2025'\n",
    "\n",
    "# Fetch Gold (MCX) futures\n",
    "gold_mcx = investpy.commodities.get_commodity_historical_data(\n",
    "    commodity='gold',\n",
    "    from_date=from_date,\n",
    "    to_date=to_date,\n",
    "    country='india'\n",
    ")\n",
    "\n",
    "# Fetch Silver (MCX) futures\n",
    "silver_mcx = investpy.commodities.get_commodity_historical_data(\n",
    "    commodity='silver',\n",
    "    from_date=from_date,\n",
    "    to_date=to_date,\n",
    "    country='india'\n",
    ")\n",
    "\n",
    "# Reset index for convenience\n",
    "gold_mcx = gold_mcx.reset_index()\n",
    "silver_mcx = silver_mcx.reset_index()\n",
    "\n",
    "# Save to Parquet\n",
    "gold_mcx.to_parquet(\"/Users/vanshaj/Work/GitHub/Quant_Labs/Project/Exploratory Market Analysis/src/data/Commoditiy/mcx_gold_2024_2025.parquet\", index=False)\n",
    "silver_mcx.to_parquet(\"/Users/vanshaj/Work/GitHub/Quant_Labs/Project/Exploratory Market Analysis/src/data/Commoditiy/mcx_silver_2024_2025.parquet\", index=False)\n"
   ]
  }
 ],
 "metadata": {
  "kernelspec": {
   "display_name": "Python 3",
   "language": "python",
   "name": "python3"
  },
  "language_info": {
   "codemirror_mode": {
    "name": "ipython",
    "version": 3
   },
   "file_extension": ".py",
   "mimetype": "text/x-python",
   "name": "python",
   "nbconvert_exporter": "python",
   "pygments_lexer": "ipython3",
   "version": "3.12.11"
  }
 },
 "nbformat": 4,
 "nbformat_minor": 5
}
