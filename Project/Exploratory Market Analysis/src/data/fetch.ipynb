{
 "cells": [
  {
   "cell_type": "code",
   "execution_count": 2,
   "id": "c4aeac04",
   "metadata": {},
   "outputs": [
    {
     "name": "stderr",
     "output_type": "stream",
     "text": [
      "/var/folders/y5/g1x0tvb16bbf0rjf7219mhmh0000gn/T/ipykernel_4601/3284144410.py:12: FutureWarning: YF.download() has changed argument auto_adjust default to True\n",
      "  df = yf.download(ticker, start=start_date, end=end_date)\n",
      "[*********************100%***********************]  1 of 1 completed"
     ]
    },
    {
     "name": "stdout",
     "output_type": "stream",
     "text": [
      "\n",
      "Data saved to: /Users/vanshaj/Work/GitHub/Quant_Labs/Project/Exploratory Market Analysis/src/data/Equity/Qatar_2024-04-01_to_2025-03-31.parquet\n",
      "\n",
      "Date range in data: 2024-04-01 00:00:00 to 2025-03-28 00:00:00\n",
      "Number of trading days: 250\n"
     ]
    },
    {
     "name": "stderr",
     "output_type": "stream",
     "text": [
      "\n"
     ]
    }
   ],
   "source": [
    "import yfinance as yf\n",
    "import pandas as pd\n",
    "\n",
    "# Verizon ticker symbol: VZ\n",
    "ticker = \"QAT\"\n",
    "\n",
    "# Define date range: April 1, 2024 to March 31, 2025\n",
    "start_date = \"2024-04-01\"\n",
    "end_date = \"2025-03-31\"\n",
    "\n",
    "# Download Verizon data\n",
    "df = yf.download(ticker, start=start_date, end=end_date)\n",
    "\n",
    "# Reset index to include Date as a column\n",
    "data = df.reset_index()\n",
    "# Save to parquet file\n",
    "filename = f\"/Users/vanshaj/Work/GitHub/Quant_Labs/Project/Exploratory Market Analysis/src/data/Equity/Qatar_{start_date}_to_{end_date}.parquet\"\n",
    "data.to_parquet(filename, index=False)\n",
    "print(f\"\\nData saved to: {filename}\")\n",
    "\n",
    "# Additional info about the data\n",
    "print(f\"\\nDate range in data: {data['Date'].min()} to {data['Date'].max()}\")\n",
    "print(f\"Number of trading days: {len(data)}\")"
   ]
  },
  {
   "cell_type": "code",
   "execution_count": 8,
   "id": "06300569",
   "metadata": {},
   "outputs": [
    {
     "name": "stdout",
     "output_type": "stream",
     "text": [
      "Data saved successfully at: /Users/vanshaj/Work/GitHub/Quant_Labs/Project/Exploratory Market Analysis/src/data/Equity/BHARTIARTL_01-04-2024_to_31-03-2025.parquet\n",
      "Data saved successfully at: /Users/vanshaj/Work/GitHub/Quant_Labs/Project/Exploratory Market Analysis/src/data/Equity/IDEA_01-04-2024_to_31-03-2025.parquet\n"
     ]
    }
   ],
   "source": [
    "from nsepython import nsefetch\n",
    "import pandas as pd\n",
    "def get_equity_historical_data(symbol: str, series: str, start_date: str, end_date: str, save_folder: str):\n",
    "\n",
    "    # NSE API for historical equity data\n",
    "    url_equity = f\"https://www.nseindia.com/api/historical/cm/equity?symbol={symbol}&series=[%22{series}%22]&from={start_date}&to={end_date}\"\n",
    "\n",
    "    # Fetch data\n",
    "    data = nsefetch(url_equity)\n",
    "    df = pd.DataFrame(data['data'])\n",
    "\n",
    "    # Select useful columns\n",
    "    df = df[['CH_TIMESTAMP','CH_OPENING_PRICE','CH_TRADE_HIGH_PRICE',\n",
    "            'CH_TRADE_LOW_PRICE','CH_CLOSING_PRICE','CH_TOT_TRADED_QTY']]\n",
    "    # Rename columns\n",
    "    df.columns = ['Date','Open','High','Low','Close','Volume']\n",
    "\n",
    "    file_path = (f\"{save_folder}{symbol}_{start_date}_to_{end_date}.parquet\")\n",
    "\n",
    "    # Save as parquet\n",
    "    df.to_parquet(file_path, index=False)\n",
    "    print(f\"Data saved successfully at: {file_path}\")\n",
    "\n",
    "get_equity_historical_data(\"BHARTIARTL\",\"EQ\",\"01-04-2024\",\"31-03-2025\",\"/Users/vanshaj/Work/GitHub/Quant_Labs/Project/Exploratory Market Analysis/src/data/Equity/\")\n",
    "\n",
    "get_equity_historical_data(\"IDEA\",\"EQ\",\"01-04-2024\",\"31-03-2025\",\"/Users/vanshaj/Work/GitHub/Quant_Labs/Project/Exploratory Market Analysis/src/data/Equity/\")\n"
   ]
  },
  {
   "cell_type": "code",
   "execution_count": null,
   "id": "9b340b2f",
   "metadata": {},
   "outputs": [],
   "source": []
  }
 ],
 "metadata": {
  "kernelspec": {
   "display_name": "Python 3",
   "language": "python",
   "name": "python3"
  },
  "language_info": {
   "codemirror_mode": {
    "name": "ipython",
    "version": 3
   },
   "file_extension": ".py",
   "mimetype": "text/x-python",
   "name": "python",
   "nbconvert_exporter": "python",
   "pygments_lexer": "ipython3",
   "version": "3.12.11"
  }
 },
 "nbformat": 4,
 "nbformat_minor": 5
}
