{
 "cells": [
  {
   "cell_type": "code",
   "execution_count": 1,
   "id": "8f93a23f",
   "metadata": {},
   "outputs": [],
   "source": [
    "\n",
    "import pandas as pd\n",
    "\n",
    "files_path=\"/Users/vanshaj/Work/GitHub/Quant_Labs/Application/Data/Assets Data/EQUITY/INDIA\"\n",
    "symbol =\"/Users/vanshaj/Work/GitHub/Quant_Labs/Application/Data/India50_stocks.parquet\"\n",
    "\n",
    "\n",
    "ds = pd.read_parquet(symbol)[\"Symbol\"]\n",
    "\n",
    "for i in ds:\n",
    "     df = pd.read_parquet(f\"{files_path}/{i}_history.parquet\")\n",
    "\n"
   ]
  },
  {
   "cell_type": "code",
   "execution_count": null,
   "id": "b359044c",
   "metadata": {},
   "outputs": [],
   "source": [
    "import numpy as np\n",
    "import pandas as pd\n",
    "from scipy.linalg import svd\n"
   ]
  }
 ],
 "metadata": {
  "kernelspec": {
   "display_name": "Python 3",
   "language": "python",
   "name": "python3"
  },
  "language_info": {
   "codemirror_mode": {
    "name": "ipython",
    "version": 3
   },
   "file_extension": ".py",
   "mimetype": "text/x-python",
   "name": "python",
   "nbconvert_exporter": "python",
   "pygments_lexer": "ipython3",
   "version": "3.12.11"
  }
 },
 "nbformat": 4,
 "nbformat_minor": 5
}
