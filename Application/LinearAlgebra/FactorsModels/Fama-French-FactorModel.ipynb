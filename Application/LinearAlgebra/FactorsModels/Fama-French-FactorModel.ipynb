{
 "cells": [
  {
   "cell_type": "code",
   "execution_count": null,
   "id": "0d5f0528",
   "metadata": {},
   "outputs": [
    {
     "data": {
      "application/vnd.microsoft.datawrangler.viewer.v0+json": {
       "columns": [
        {
         "name": "index",
         "rawType": "int64",
         "type": "integer"
        },
        {
         "name": "Date",
         "rawType": "datetime64[ns]",
         "type": "datetime"
        },
        {
         "name": "SMB",
         "rawType": "float64",
         "type": "float"
        },
        {
         "name": "HML",
         "rawType": "float64",
         "type": "float"
        },
        {
         "name": "WML",
         "rawType": "float64",
         "type": "float"
        },
        {
         "name": "MF",
         "rawType": "float64",
         "type": "float"
        },
        {
         "name": "RF",
         "rawType": "float64",
         "type": "float"
        }
       ],
       "ref": "54192de3-b51a-4b1d-9b89-1fdc52240687",
       "rows": [
        [
         "0",
         "1993-10-01 00:00:00",
         "1.47262657677485",
         "1.25932956582304",
         "-0.421256951183213",
         null,
         null
        ],
        [
         "1",
         "1993-10-04 00:00:00",
         "0.466722166017108",
         "0.433937331584611",
         "-0.69542089629725",
         "-0.930542876673202",
         "0.0220136138988858"
        ],
        [
         "2",
         "1993-10-05 00:00:00",
         "0.0606998936542924",
         "0.785147672991582",
         "-0.823548987198719",
         "-0.296247724876686",
         "0.0220136138988858"
        ],
        [
         "3",
         "1993-10-06 00:00:00",
         "-0.0679279364356633",
         "-1.54067535583541",
         "0.177848956945392",
         "-0.326857219322663",
         "0.0220136138988858"
        ],
        [
         "4",
         "1993-10-07 00:00:00",
         "-0.291445653346256",
         "0.138116507669683",
         "-0.0327553200798358",
         "0.380038919978576",
         "0.0220136138988858"
        ]
       ],
       "shape": {
        "columns": 6,
        "rows": 5
       }
      },
      "text/html": [
       "<div>\n",
       "<style scoped>\n",
       "    .dataframe tbody tr th:only-of-type {\n",
       "        vertical-align: middle;\n",
       "    }\n",
       "\n",
       "    .dataframe tbody tr th {\n",
       "        vertical-align: top;\n",
       "    }\n",
       "\n",
       "    .dataframe thead th {\n",
       "        text-align: right;\n",
       "    }\n",
       "</style>\n",
       "<table border=\"1\" class=\"dataframe\">\n",
       "  <thead>\n",
       "    <tr style=\"text-align: right;\">\n",
       "      <th></th>\n",
       "      <th>Date</th>\n",
       "      <th>SMB</th>\n",
       "      <th>HML</th>\n",
       "      <th>WML</th>\n",
       "      <th>MF</th>\n",
       "      <th>RF</th>\n",
       "    </tr>\n",
       "  </thead>\n",
       "  <tbody>\n",
       "    <tr>\n",
       "      <th>0</th>\n",
       "      <td>1993-10-01</td>\n",
       "      <td>1.472627</td>\n",
       "      <td>1.259330</td>\n",
       "      <td>-0.421257</td>\n",
       "      <td>NaN</td>\n",
       "      <td>NaN</td>\n",
       "    </tr>\n",
       "    <tr>\n",
       "      <th>1</th>\n",
       "      <td>1993-10-04</td>\n",
       "      <td>0.466722</td>\n",
       "      <td>0.433937</td>\n",
       "      <td>-0.695421</td>\n",
       "      <td>-0.930543</td>\n",
       "      <td>0.022014</td>\n",
       "    </tr>\n",
       "    <tr>\n",
       "      <th>2</th>\n",
       "      <td>1993-10-05</td>\n",
       "      <td>0.060700</td>\n",
       "      <td>0.785148</td>\n",
       "      <td>-0.823549</td>\n",
       "      <td>-0.296248</td>\n",
       "      <td>0.022014</td>\n",
       "    </tr>\n",
       "    <tr>\n",
       "      <th>3</th>\n",
       "      <td>1993-10-06</td>\n",
       "      <td>-0.067928</td>\n",
       "      <td>-1.540675</td>\n",
       "      <td>0.177849</td>\n",
       "      <td>-0.326857</td>\n",
       "      <td>0.022014</td>\n",
       "    </tr>\n",
       "    <tr>\n",
       "      <th>4</th>\n",
       "      <td>1993-10-07</td>\n",
       "      <td>-0.291446</td>\n",
       "      <td>0.138117</td>\n",
       "      <td>-0.032755</td>\n",
       "      <td>0.380039</td>\n",
       "      <td>0.022014</td>\n",
       "    </tr>\n",
       "  </tbody>\n",
       "</table>\n",
       "</div>"
      ],
      "text/plain": [
       "        Date       SMB       HML       WML        MF        RF\n",
       "0 1993-10-01  1.472627  1.259330 -0.421257       NaN       NaN\n",
       "1 1993-10-04  0.466722  0.433937 -0.695421 -0.930543  0.022014\n",
       "2 1993-10-05  0.060700  0.785148 -0.823549 -0.296248  0.022014\n",
       "3 1993-10-06 -0.067928 -1.540675  0.177849 -0.326857  0.022014\n",
       "4 1993-10-07 -0.291446  0.138117 -0.032755  0.380039  0.022014"
      ]
     },
     "execution_count": 2,
     "metadata": {},
     "output_type": "execute_result"
    }
   ],
   "source": [
    "import pandas as pd\n",
    "\n",
    "factors = pd.read_csv(\"/Users/vanshaj/Work/GitHub/Quant_Labs/Application/Data/Factor model Data/2025-03_FourFactors_and_Market_Returns_Daily_SurvivorshipBiasAdjusted.csv\", parse_dates=['Date'])\n",
    "factors.head()\n"
   ]
  },
  {
   "cell_type": "code",
   "execution_count": 7,
   "id": "3289262e",
   "metadata": {},
   "outputs": [
    {
     "data": {
      "application/vnd.microsoft.datawrangler.viewer.v0+json": {
       "columns": [
        {
         "name": "index",
         "rawType": "int64",
         "type": "integer"
        },
        {
         "name": "Date",
         "rawType": "datetime64[ns]",
         "type": "datetime"
        },
        {
         "name": "Open",
         "rawType": "float64",
         "type": "float"
        },
        {
         "name": "High",
         "rawType": "float64",
         "type": "float"
        },
        {
         "name": "Low",
         "rawType": "float64",
         "type": "float"
        },
        {
         "name": "Close",
         "rawType": "float64",
         "type": "float"
        },
        {
         "name": "Shares Traded",
         "rawType": "int64",
         "type": "integer"
        },
        {
         "name": "Turnover (₹ Cr)",
         "rawType": "float64",
         "type": "float"
        }
       ],
       "ref": "ee94fd53-84f2-4dcb-8f2d-be6539792a5c",
       "rows": [
        [
         "0",
         "2024-08-26 00:00:00",
         "24906.1",
         "25043.8",
         "24874.7",
         "25010.6",
         "210266456",
         "22166.86"
        ],
        [
         "1",
         "2024-08-27 00:00:00",
         "25024.8",
         "25073.1",
         "24973.65",
         "25017.75",
         "223346636",
         "26695.0"
        ],
        [
         "2",
         "2024-08-28 00:00:00",
         "25030.8",
         "25129.6",
         "24964.65",
         "25052.35",
         "220419448",
         "26994.19"
        ],
        [
         "3",
         "2024-08-29 00:00:00",
         "25035.3",
         "25192.9",
         "24998.5",
         "25151.95",
         "353993900",
         "43221.73"
        ],
        [
         "4",
         "2024-08-30 00:00:00",
         "25249.7",
         "25268.35",
         "25199.4",
         "25235.9",
         "638166179",
         "89554.91"
        ]
       ],
       "shape": {
        "columns": 7,
        "rows": 5
       }
      },
      "text/html": [
       "<div>\n",
       "<style scoped>\n",
       "    .dataframe tbody tr th:only-of-type {\n",
       "        vertical-align: middle;\n",
       "    }\n",
       "\n",
       "    .dataframe tbody tr th {\n",
       "        vertical-align: top;\n",
       "    }\n",
       "\n",
       "    .dataframe thead th {\n",
       "        text-align: right;\n",
       "    }\n",
       "</style>\n",
       "<table border=\"1\" class=\"dataframe\">\n",
       "  <thead>\n",
       "    <tr style=\"text-align: right;\">\n",
       "      <th></th>\n",
       "      <th>Date</th>\n",
       "      <th>Open</th>\n",
       "      <th>High</th>\n",
       "      <th>Low</th>\n",
       "      <th>Close</th>\n",
       "      <th>Shares Traded</th>\n",
       "      <th>Turnover (₹ Cr)</th>\n",
       "    </tr>\n",
       "  </thead>\n",
       "  <tbody>\n",
       "    <tr>\n",
       "      <th>0</th>\n",
       "      <td>2024-08-26</td>\n",
       "      <td>24906.1</td>\n",
       "      <td>25043.80</td>\n",
       "      <td>24874.70</td>\n",
       "      <td>25010.60</td>\n",
       "      <td>210266456</td>\n",
       "      <td>22166.86</td>\n",
       "    </tr>\n",
       "    <tr>\n",
       "      <th>1</th>\n",
       "      <td>2024-08-27</td>\n",
       "      <td>25024.8</td>\n",
       "      <td>25073.10</td>\n",
       "      <td>24973.65</td>\n",
       "      <td>25017.75</td>\n",
       "      <td>223346636</td>\n",
       "      <td>26695.00</td>\n",
       "    </tr>\n",
       "    <tr>\n",
       "      <th>2</th>\n",
       "      <td>2024-08-28</td>\n",
       "      <td>25030.8</td>\n",
       "      <td>25129.60</td>\n",
       "      <td>24964.65</td>\n",
       "      <td>25052.35</td>\n",
       "      <td>220419448</td>\n",
       "      <td>26994.19</td>\n",
       "    </tr>\n",
       "    <tr>\n",
       "      <th>3</th>\n",
       "      <td>2024-08-29</td>\n",
       "      <td>25035.3</td>\n",
       "      <td>25192.90</td>\n",
       "      <td>24998.50</td>\n",
       "      <td>25151.95</td>\n",
       "      <td>353993900</td>\n",
       "      <td>43221.73</td>\n",
       "    </tr>\n",
       "    <tr>\n",
       "      <th>4</th>\n",
       "      <td>2024-08-30</td>\n",
       "      <td>25249.7</td>\n",
       "      <td>25268.35</td>\n",
       "      <td>25199.40</td>\n",
       "      <td>25235.90</td>\n",
       "      <td>638166179</td>\n",
       "      <td>89554.91</td>\n",
       "    </tr>\n",
       "  </tbody>\n",
       "</table>\n",
       "</div>"
      ],
      "text/plain": [
       "        Date     Open      High       Low     Close  Shares Traded  \\\n",
       "0 2024-08-26  24906.1  25043.80  24874.70  25010.60      210266456   \n",
       "1 2024-08-27  25024.8  25073.10  24973.65  25017.75      223346636   \n",
       "2 2024-08-28  25030.8  25129.60  24964.65  25052.35      220419448   \n",
       "3 2024-08-29  25035.3  25192.90  24998.50  25151.95      353993900   \n",
       "4 2024-08-30  25249.7  25268.35  25199.40  25235.90      638166179   \n",
       "\n",
       "   Turnover (₹ Cr)  \n",
       "0         22166.86  \n",
       "1         26695.00  \n",
       "2         26994.19  \n",
       "3         43221.73  \n",
       "4         89554.91  "
      ]
     },
     "execution_count": 7,
     "metadata": {},
     "output_type": "execute_result"
    }
   ],
   "source": [
    "assets = pd.read_csv('/Users/vanshaj/Work/GitHub/Quant_Labs/Application/Data/Assets Data/NIFTY 50-26-08-2024-to-26-08-2025.csv')\n",
    "assets.columns = assets.columns.str.strip()  # Remove any leading/trailing spaces\n",
    "assets['Date'] = pd.to_datetime(assets['Date'], format='%d-%b-%Y')\n",
    "assets.head()"
   ]
  },
  {
   "cell_type": "code",
   "execution_count": 12,
   "id": "032dd4d1",
   "metadata": {},
   "outputs": [
    {
     "name": "stdout",
     "output_type": "stream",
     "text": [
      "          Date      Open      High       Low     Close  Shares Traded  \\\n",
      "0   2024-08-26  24906.10  25043.80  24874.70  25010.60      210266456   \n",
      "1   2024-08-27  25024.80  25073.10  24973.65  25017.75      223346636   \n",
      "2   2024-08-28  25030.80  25129.60  24964.65  25052.35      220419448   \n",
      "3   2024-08-29  25035.30  25192.90  24998.50  25151.95      353993900   \n",
      "4   2024-08-30  25249.70  25268.35  25199.40  25235.90      638166179   \n",
      "..         ...       ...       ...       ...       ...            ...   \n",
      "145 2025-03-24  23515.40  23708.75  23433.50  23658.35      311900413   \n",
      "146 2025-03-25  23751.50  23869.60  23601.40  23668.65      338216746   \n",
      "147 2025-03-26  23700.95  23736.50  23451.70  23486.85      278590831   \n",
      "148 2025-03-27  23433.95  23646.45  23412.20  23591.95      510302142   \n",
      "149 2025-03-28  23600.40  23649.20  23450.20  23519.35      387455531   \n",
      "\n",
      "     Turnover (₹ Cr)       SMB       HML       WML        MF        RF  \n",
      "0           22166.86 -0.805112  0.194279 -0.303359  0.475529  0.052808  \n",
      "1           26695.00  0.770331  0.043097  0.073810  0.011850  0.017600  \n",
      "2           26994.19 -0.361312 -0.282176  0.082713  0.011446  0.017600  \n",
      "3           43221.73 -1.207262  0.079925 -0.267680 -0.149429  0.017588  \n",
      "4           89554.91  0.221964 -0.017888  0.289017  0.524694  0.017588  \n",
      "..               ...       ...       ...       ...       ...       ...  \n",
      "145         28871.35  0.162359  0.030765 -0.391904  0.989907  0.051777  \n",
      "146         35415.03 -1.165810 -0.824168  0.493357 -0.815083  0.017256  \n",
      "147         26877.28 -1.087116 -0.230441  0.467384 -0.698052  0.017256  \n",
      "148         46481.84 -0.091973  0.259492  0.298535  0.588282  0.017294  \n",
      "149         29156.37 -0.276881 -0.102576  0.419147 -0.525867  0.017294  \n",
      "\n",
      "[150 rows x 12 columns]\n"
     ]
    }
   ],
   "source": [
    "merged = pd.merge(assets, factors, on='Date', how='inner')\n",
    "merged.head()\n",
    "print(merged)\n",
    "merged.to_csv('merged_factor_data.csv', index=False)\n"
   ]
  },
  {
   "cell_type": "code",
   "execution_count": 19,
   "id": "99e8c750",
   "metadata": {},
   "outputs": [
    {
     "data": {
      "application/vnd.microsoft.datawrangler.viewer.v0+json": {
       "columns": [
        {
         "name": "index",
         "rawType": "int64",
         "type": "integer"
        },
        {
         "name": "Date",
         "rawType": "datetime64[ns]",
         "type": "datetime"
        },
        {
         "name": "Open",
         "rawType": "float64",
         "type": "float"
        },
        {
         "name": "High",
         "rawType": "float64",
         "type": "float"
        },
        {
         "name": "Low",
         "rawType": "float64",
         "type": "float"
        },
        {
         "name": "Close",
         "rawType": "float64",
         "type": "float"
        },
        {
         "name": "Shares Traded",
         "rawType": "int64",
         "type": "integer"
        },
        {
         "name": "Turnover (₹ Cr)",
         "rawType": "float64",
         "type": "float"
        },
        {
         "name": "SMB",
         "rawType": "float64",
         "type": "float"
        },
        {
         "name": "HML",
         "rawType": "float64",
         "type": "float"
        },
        {
         "name": "WML",
         "rawType": "float64",
         "type": "float"
        },
        {
         "name": "MF",
         "rawType": "float64",
         "type": "float"
        },
        {
         "name": "RF",
         "rawType": "float64",
         "type": "float"
        },
        {
         "name": "Simple_Return",
         "rawType": "float64",
         "type": "float"
        },
        {
         "name": "Log_Return",
         "rawType": "float64",
         "type": "float"
        },
        {
         "name": "Intraday_Return",
         "rawType": "float64",
         "type": "float"
        }
       ],
       "ref": "a82f5a3b-f267-412e-8bb7-2695ff86d959",
       "rows": [
        [
         "0",
         "2024-08-26 00:00:00",
         "24906.1",
         "25043.8",
         "24874.7",
         "25010.6",
         "210266456",
         "22166.86",
         "-0.805111956287641",
         "0.194279130460528",
         "-0.303358752870742",
         "0.475529172531153",
         "0.0528083838993831",
         null,
         null,
         "0.0067980719365459095"
        ],
        [
         "1",
         "2024-08-27 00:00:00",
         "25024.8",
         "25073.1",
         "24973.65",
         "25017.75",
         "223346636",
         "26695.0",
         "0.770331131589952",
         "0.0430972423036691",
         "0.0738101127444768",
         "0.0118501122208459",
         "0.0175996969580705",
         "0.0002858787873942781",
         "0.00028583793184004246",
         "0.003982197235886508"
        ],
        [
         "2",
         "2024-08-28 00:00:00",
         "25030.8",
         "25129.6",
         "24964.65",
         "25052.35",
         "220419448",
         "26994.19",
         "-0.361312244378453",
         "-0.282176086756147",
         "0.0827131288992033",
         "0.0114463783204677",
         "0.0175996969581149",
         "0.0013830180571794415",
         "0.0013820625685767348",
         "0.0066073427826946135"
        ],
        [
         "3",
         "2024-08-29 00:00:00",
         "25035.3",
         "25192.9",
         "24998.5",
         "25151.95",
         "353993900",
         "43221.73",
         "-1.20726205156664",
         "0.0799254601693056",
         "-0.267680415172555",
         "-0.149429324117878",
         "0.0175878845585453",
         "0.003975674936682605",
         "0.003967792825316532",
         "0.007776466587995338"
        ],
        [
         "4",
         "2024-08-30 00:00:00",
         "25249.7",
         "25268.35",
         "25199.4",
         "25235.9",
         "638166179",
         "89554.91",
         "0.221963773911305",
         "-0.0178877901157559",
         "0.289017273113923",
         "0.524693502026374",
         "0.0175878845585897",
         "0.0033377133780880808",
         "0.003332155576256976",
         "0.002736176258164761"
        ]
       ],
       "shape": {
        "columns": 15,
        "rows": 5
       }
      },
      "text/html": [
       "<div>\n",
       "<style scoped>\n",
       "    .dataframe tbody tr th:only-of-type {\n",
       "        vertical-align: middle;\n",
       "    }\n",
       "\n",
       "    .dataframe tbody tr th {\n",
       "        vertical-align: top;\n",
       "    }\n",
       "\n",
       "    .dataframe thead th {\n",
       "        text-align: right;\n",
       "    }\n",
       "</style>\n",
       "<table border=\"1\" class=\"dataframe\">\n",
       "  <thead>\n",
       "    <tr style=\"text-align: right;\">\n",
       "      <th></th>\n",
       "      <th>Date</th>\n",
       "      <th>Open</th>\n",
       "      <th>High</th>\n",
       "      <th>Low</th>\n",
       "      <th>Close</th>\n",
       "      <th>Shares Traded</th>\n",
       "      <th>Turnover (₹ Cr)</th>\n",
       "      <th>SMB</th>\n",
       "      <th>HML</th>\n",
       "      <th>WML</th>\n",
       "      <th>MF</th>\n",
       "      <th>RF</th>\n",
       "      <th>Simple_Return</th>\n",
       "      <th>Log_Return</th>\n",
       "      <th>Intraday_Return</th>\n",
       "    </tr>\n",
       "  </thead>\n",
       "  <tbody>\n",
       "    <tr>\n",
       "      <th>0</th>\n",
       "      <td>2024-08-26</td>\n",
       "      <td>24906.1</td>\n",
       "      <td>25043.80</td>\n",
       "      <td>24874.70</td>\n",
       "      <td>25010.60</td>\n",
       "      <td>210266456</td>\n",
       "      <td>22166.86</td>\n",
       "      <td>-0.805112</td>\n",
       "      <td>0.194279</td>\n",
       "      <td>-0.303359</td>\n",
       "      <td>0.475529</td>\n",
       "      <td>0.052808</td>\n",
       "      <td>NaN</td>\n",
       "      <td>NaN</td>\n",
       "      <td>0.006798</td>\n",
       "    </tr>\n",
       "    <tr>\n",
       "      <th>1</th>\n",
       "      <td>2024-08-27</td>\n",
       "      <td>25024.8</td>\n",
       "      <td>25073.10</td>\n",
       "      <td>24973.65</td>\n",
       "      <td>25017.75</td>\n",
       "      <td>223346636</td>\n",
       "      <td>26695.00</td>\n",
       "      <td>0.770331</td>\n",
       "      <td>0.043097</td>\n",
       "      <td>0.073810</td>\n",
       "      <td>0.011850</td>\n",
       "      <td>0.017600</td>\n",
       "      <td>0.000286</td>\n",
       "      <td>0.000286</td>\n",
       "      <td>0.003982</td>\n",
       "    </tr>\n",
       "    <tr>\n",
       "      <th>2</th>\n",
       "      <td>2024-08-28</td>\n",
       "      <td>25030.8</td>\n",
       "      <td>25129.60</td>\n",
       "      <td>24964.65</td>\n",
       "      <td>25052.35</td>\n",
       "      <td>220419448</td>\n",
       "      <td>26994.19</td>\n",
       "      <td>-0.361312</td>\n",
       "      <td>-0.282176</td>\n",
       "      <td>0.082713</td>\n",
       "      <td>0.011446</td>\n",
       "      <td>0.017600</td>\n",
       "      <td>0.001383</td>\n",
       "      <td>0.001382</td>\n",
       "      <td>0.006607</td>\n",
       "    </tr>\n",
       "    <tr>\n",
       "      <th>3</th>\n",
       "      <td>2024-08-29</td>\n",
       "      <td>25035.3</td>\n",
       "      <td>25192.90</td>\n",
       "      <td>24998.50</td>\n",
       "      <td>25151.95</td>\n",
       "      <td>353993900</td>\n",
       "      <td>43221.73</td>\n",
       "      <td>-1.207262</td>\n",
       "      <td>0.079925</td>\n",
       "      <td>-0.267680</td>\n",
       "      <td>-0.149429</td>\n",
       "      <td>0.017588</td>\n",
       "      <td>0.003976</td>\n",
       "      <td>0.003968</td>\n",
       "      <td>0.007776</td>\n",
       "    </tr>\n",
       "    <tr>\n",
       "      <th>4</th>\n",
       "      <td>2024-08-30</td>\n",
       "      <td>25249.7</td>\n",
       "      <td>25268.35</td>\n",
       "      <td>25199.40</td>\n",
       "      <td>25235.90</td>\n",
       "      <td>638166179</td>\n",
       "      <td>89554.91</td>\n",
       "      <td>0.221964</td>\n",
       "      <td>-0.017888</td>\n",
       "      <td>0.289017</td>\n",
       "      <td>0.524694</td>\n",
       "      <td>0.017588</td>\n",
       "      <td>0.003338</td>\n",
       "      <td>0.003332</td>\n",
       "      <td>0.002736</td>\n",
       "    </tr>\n",
       "  </tbody>\n",
       "</table>\n",
       "</div>"
      ],
      "text/plain": [
       "        Date     Open      High       Low     Close  Shares Traded  \\\n",
       "0 2024-08-26  24906.1  25043.80  24874.70  25010.60      210266456   \n",
       "1 2024-08-27  25024.8  25073.10  24973.65  25017.75      223346636   \n",
       "2 2024-08-28  25030.8  25129.60  24964.65  25052.35      220419448   \n",
       "3 2024-08-29  25035.3  25192.90  24998.50  25151.95      353993900   \n",
       "4 2024-08-30  25249.7  25268.35  25199.40  25235.90      638166179   \n",
       "\n",
       "   Turnover (₹ Cr)       SMB       HML       WML        MF        RF  \\\n",
       "0         22166.86 -0.805112  0.194279 -0.303359  0.475529  0.052808   \n",
       "1         26695.00  0.770331  0.043097  0.073810  0.011850  0.017600   \n",
       "2         26994.19 -0.361312 -0.282176  0.082713  0.011446  0.017600   \n",
       "3         43221.73 -1.207262  0.079925 -0.267680 -0.149429  0.017588   \n",
       "4         89554.91  0.221964 -0.017888  0.289017  0.524694  0.017588   \n",
       "\n",
       "   Simple_Return  Log_Return  Intraday_Return  \n",
       "0            NaN         NaN         0.006798  \n",
       "1       0.000286    0.000286         0.003982  \n",
       "2       0.001383    0.001382         0.006607  \n",
       "3       0.003976    0.003968         0.007776  \n",
       "4       0.003338    0.003332         0.002736  "
      ]
     },
     "execution_count": 19,
     "metadata": {},
     "output_type": "execute_result"
    }
   ],
   "source": [
    "import numpy as np\n",
    "merged['Simple_Return'] = merged['Close'].pct_change()\n",
    "merged['Log_Return'] = np.log(merged['Close'] / merged['Close'].shift(1))\n",
    "merged['Intraday_Return'] = (merged['High'] - merged['Low']) / merged['Low']\n",
    "\n",
    "merged.head()"
   ]
  },
  {
   "cell_type": "code",
   "execution_count": 21,
   "id": "8d008ca5",
   "metadata": {},
   "outputs": [],
   "source": [
    "merged_clean = merged.dropna().reset_index(drop=True)\n",
    "merged_clean.head()\n",
    "merged_clean.to_csv('merged_factor_data.csv', index=False)"
   ]
  },
  {
   "cell_type": "code",
   "execution_count": 23,
   "id": "b60b2cd8",
   "metadata": {},
   "outputs": [
    {
     "name": "stdout",
     "output_type": "stream",
     "text": [
      "                            OLS Regression Results                            \n",
      "==============================================================================\n",
      "Dep. Variable:          Excess_Return   R-squared:                       0.330\n",
      "Model:                            OLS   Adj. R-squared:                  0.312\n",
      "Method:                 Least Squares   F-statistic:                     17.76\n",
      "Date:                Wed, 03 Sep 2025   Prob (F-statistic):           7.12e-12\n",
      "Time:                        17:59:44   Log-Likelihood:                 425.94\n",
      "No. Observations:                 149   AIC:                            -841.9\n",
      "Df Residuals:                     144   BIC:                            -826.9\n",
      "Df Model:                           4                                         \n",
      "Covariance Type:            nonrobust                                         \n",
      "==============================================================================\n",
      "                 coef    std err          t      P>|t|      [0.025      0.975]\n",
      "------------------------------------------------------------------------------\n",
      "const         -0.0239      0.001    -20.489      0.000      -0.026      -0.022\n",
      "SMB           -0.0003      0.001     -0.188      0.851      -0.003       0.003\n",
      "HML           -0.0006      0.002     -0.281      0.779      -0.005       0.004\n",
      "WML           -0.0028      0.003     -1.128      0.261      -0.008       0.002\n",
      "MF             0.0105      0.001      7.124      0.000       0.008       0.013\n",
      "==============================================================================\n",
      "Omnibus:                       30.786   Durbin-Watson:                   2.541\n",
      "Prob(Omnibus):                  0.000   Jarque-Bera (JB):               42.684\n",
      "Skew:                          -1.285   Prob(JB):                     5.39e-10\n",
      "Kurtosis:                       3.523   Cond. No.                         2.73\n",
      "==============================================================================\n",
      "\n",
      "Notes:\n",
      "[1] Standard Errors assume that the covariance matrix of the errors is correctly specified.\n"
     ]
    }
   ],
   "source": [
    "import statsmodels.api as sm\n",
    "df = pd.read_csv('merged_factor_data.csv', parse_dates=['Date'], index_col='Date')\n",
    "df['Excess_Return'] = df['Log_Return'] - df['RF']\n",
    "X = df[['SMB', 'HML', 'WML', 'MF']]\n",
    "y = df['Excess_Return']\n",
    "X = sm.add_constant(X)  # adds intercept (alpha)\n",
    "model = sm.OLS(y, X).fit()\n",
    "print(model.summary())"
   ]
  }
 ],
 "metadata": {
  "kernelspec": {
   "display_name": "Python 3",
   "language": "python",
   "name": "python3"
  },
  "language_info": {
   "codemirror_mode": {
    "name": "ipython",
    "version": 3
   },
   "file_extension": ".py",
   "mimetype": "text/x-python",
   "name": "python",
   "nbconvert_exporter": "python",
   "pygments_lexer": "ipython3",
   "version": "3.12.11"
  }
 },
 "nbformat": 4,
 "nbformat_minor": 5
}
