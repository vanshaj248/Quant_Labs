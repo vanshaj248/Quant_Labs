{
 "cells": [
  {
   "cell_type": "code",
   "execution_count": 4,
   "id": "3e5ca34c",
   "metadata": {},
   "outputs": [
    {
     "name": "stdout",
     "output_type": "stream",
     "text": [
      "         Date     Open     High      Low    Close    Volume\n",
      "0  2024-03-01  2927.00  3000.00  2925.00  2984.25   6066463\n",
      "1  2024-02-29  2930.00  2957.95  2909.05  2921.60  11814488\n",
      "2  2024-02-28  2966.00  2982.55  2900.35  2911.25   4323975\n",
      "3  2024-02-27  2966.05  2999.90  2956.10  2971.30   5413022\n",
      "4  2024-02-26  2987.10  2989.05  2965.00  2974.65   3756553\n"
     ]
    }
   ],
   "source": [
    "from nsepython import nsefetch\n",
    "import pandas as pd\n",
    "\n",
    "# Define stock and segment\n",
    "symbol = \"RELIANCE\"\n",
    "series = \"EQ\"   # Equity\n",
    "\n",
    "# NSE historical data API (deliverable data)\n",
    "url = f\"https://www.nseindia.com/api/historical/cm/equity?symbol={symbol}&series=[%22{series}%22]&from=01-01-2024&to=01-03-2024\"\n",
    "\n",
    "# Fetch data\n",
    "data = nsefetch(url)\n",
    "\n",
    "# Convert to DataFrame\n",
    "df = pd.DataFrame(data['data'])\n",
    "\n",
    "# Select useful columns\n",
    "df = df[['CH_TIMESTAMP','CH_OPENING_PRICE','CH_TRADE_HIGH_PRICE','CH_TRADE_LOW_PRICE','CH_CLOSING_PRICE','CH_TOT_TRADED_QTY']]\n",
    "\n",
    "# Rename columns\n",
    "df.columns = ['Date','Open','High','Low','Close','Volume']\n",
    "\n",
    "print(df.head())\n",
    "\n",
    "# Save to CSV\n",
    "#df.to_csv(\"Reliance_Historical.csv\", index=False)"
   ]
  }
 ],
 "metadata": {
  "kernelspec": {
   "display_name": "Python 3",
   "language": "python",
   "name": "python3"
  },
  "language_info": {
   "codemirror_mode": {
    "name": "ipython",
    "version": 3
   },
   "file_extension": ".py",
   "mimetype": "text/x-python",
   "name": "python",
   "nbconvert_exporter": "python",
   "pygments_lexer": "ipython3",
   "version": "3.12.11"
  }
 },
 "nbformat": 4,
 "nbformat_minor": 5
}
