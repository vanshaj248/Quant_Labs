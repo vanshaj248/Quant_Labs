{
 "cells": [
  {
   "cell_type": "code",
   "execution_count": 1,
   "id": "3e5ca34c",
   "metadata": {},
   "outputs": [
    {
     "name": "stdout",
     "output_type": "stream",
     "text": [
      "         Date     Open     High      Low    Close    Volume\n",
      "0  2024-03-01  2927.00  3000.00  2925.00  2984.25   6066463\n",
      "1  2024-02-29  2930.00  2957.95  2909.05  2921.60  11814488\n",
      "2  2024-02-28  2966.00  2982.55  2900.35  2911.25   4323975\n",
      "3  2024-02-27  2966.05  2999.90  2956.10  2971.30   5413022\n",
      "4  2024-02-26  2987.10  2989.05  2965.00  2974.65   3756553\n"
     ]
    }
   ],
   "source": [
    "from nsepython import nsefetch\n",
    "import pandas as pd\n",
    "\n",
    "# Define stock and segment\n",
    "symbol = \"RELIANCE\"\n",
    "series = \"EQ\"   # Equity\n",
    "\n",
    "# NSE historical data API (deliverable data)\n",
    "url = f\"https://www.nseindia.com/api/historical/cm/equity?symbol={symbol}&series=[%22{series}%22]&from=01-01-2024&to=01-03-2024\"\n",
    "\n",
    "# Fetch data\n",
    "data = nsefetch(url)\n",
    "\n",
    "# Convert to DataFrame\n",
    "df = pd.DataFrame(data['data'])\n",
    "\n",
    "# Select useful columns\n",
    "df = df[['CH_TIMESTAMP','CH_OPENING_PRICE','CH_TRADE_HIGH_PRICE','CH_TRADE_LOW_PRICE','CH_CLOSING_PRICE','CH_TOT_TRADED_QTY']]\n",
    "\n",
    "# Rename columns\n",
    "df.columns = ['Date','Open','High','Low','Close','Volume']\n",
    "\n",
    "print(df.head())\n",
    "\n",
    "# Save to CSV\n",
    "#df.to_csv(\"Reliance_Historical.csv\", index=False)"
   ]
  },
  {
   "cell_type": "code",
   "execution_count": 3,
   "id": "aef92c37",
   "metadata": {},
   "outputs": [
    {
     "name": "stdout",
     "output_type": "stream",
     "text": [
      "Variance-Covariance Matrix:\n",
      "          Asset1    Asset2    Asset3\n",
      "Asset1  0.000062  0.000068  0.000072\n",
      "Asset2  0.000068  0.000077  0.000083\n",
      "Asset3  0.000072  0.000083  0.000092\n",
      "\n",
      "Eigenvalues (sorted):\n",
      "Principal Component 1: 0.000227\n",
      "Principal Component 2: 0.000003\n",
      "Principal Component 3: 0.000000\n",
      "\n",
      "Eigenvectors (sorted by eigenvalues):\n",
      "PC1 weights: [-0.51352937 -0.58157469 -0.63091875]\n",
      "PC2 weights: [-7.75429548e-01 -3.05578698e-04  6.31434020e-01]\n",
      "PC3 weights: [ 0.36741884 -0.81349295  0.45081327]\n"
     ]
    },
    {
     "data": {
      "image/png": "[encoded data removed]",
      "text/plain": [
       "<Figure size 1000x600 with 1 Axes>"
      ]
     },
     "metadata": {},
     "output_type": "display_data"
    }
   ],
   "source": [
    "import pandas as pd\n",
    "import numpy as np\n",
    "import pyarrow.parquet as pq\n",
    "\n",
    "df1 = pd.read_parquet(\"/Users/vanshaj/Work/GitHub/Quant_Labs/Application/Data/Assets Data/INDICES/INDIA/NIFTY 50_history.parquet\")\n",
    "df2 = pd.read_parquet(\"/Users/vanshaj/Work/GitHub/Quant_Labs/Application/Data/Assets Data/INDICES/INDIA/NIFTY 100_history.parquet\")\n",
    "df3 = pd.read_parquet(\"/Users/vanshaj/Work/GitHub/Quant_Labs/Application/Data/Assets Data/INDICES/INDIA/NIFTY 200_history.parquet\")\n",
    "\n",
    "import matplotlib.pyplot as plt\n",
    "\n",
    "# Complete analysis function\n",
    "def analyze_assets(df1, df2, df3):\n",
    "    # Calculate returns\n",
    "    returns1 = calculate_returns(df1)\n",
    "    returns2 = calculate_returns(df2)\n",
    "    returns3 = calculate_returns(df3)\n",
    "    \n",
    "    # Combine returns\n",
    "    returns_df = pd.DataFrame({\n",
    "        'Asset1': returns1,\n",
    "        'Asset2': returns2,\n",
    "        'Asset3': returns3\n",
    "    })\n",
    "    \n",
    "    # Calculate covariance matrix\n",
    "    cov_matrix = returns_df.cov()\n",
    "    \n",
    "    # Calculate eigenvalues and eigenvectors\n",
    "    eigenvalues, eigenvectors = np.linalg.eig(cov_matrix.values)\n",
    "    \n",
    "    # Sort eigenvalues and eigenvectors in descending order\n",
    "    idx = eigenvalues.argsort()[::-1]\n",
    "    eigenvalues = eigenvalues[idx]\n",
    "    eigenvectors = eigenvectors[:, idx]\n",
    "    \n",
    "    return returns_df, cov_matrix, eigenvalues, eigenvectors\n",
    "\n",
    "# Run the analysis\n",
    "returns_df, cov_matrix, eigenvalues, eigenvectors = analyze_assets(df1, df2, df3)\n",
    "\n",
    "# Print results\n",
    "print(\"Variance-Covariance Matrix:\")\n",
    "print(cov_matrix)\n",
    "\n",
    "print(\"\\nEigenvalues (sorted):\")\n",
    "for i, val in enumerate(eigenvalues):\n",
    "    print(f\"Principal Component {i+1}: {val:.6f}\")\n",
    "\n",
    "print(\"\\nEigenvectors (sorted by eigenvalues):\")\n",
    "for i, vec in enumerate(eigenvectors.T):\n",
    "    print(f\"PC{i+1} weights: {vec}\")\n",
    "\n",
    "# Optional: Plot eigenvalues (scree plot)\n",
    "plt.figure(figsize=(10, 6))\n",
    "plt.bar(range(1, 4), eigenvalues, alpha=0.7)\n",
    "plt.xlabel('Principal Component')\n",
    "plt.ylabel('Eigenvalue')\n",
    "plt.title('Scree Plot - Variance Explained by Each Principal Component')\n",
    "plt.grid(True, alpha=0.3)\n",
    "plt.show()\n"
   ]
  },
  {
   "cell_type": "code",
   "execution_count": 4,
   "id": "16e95633",
   "metadata": {},
   "outputs": [
    {
     "name": "stdout",
     "output_type": "stream",
     "text": [
      "\n",
      "Variance Explained by Each Principal Component:\n",
      "PC1: 98.56%\n",
      "PC2: 1.39%\n",
      "PC3: 0.06%\n",
      "\n",
      "Cumulative Variance: [0.98558417 0.99944946 1.        ]\n",
      "\n",
      "Correlation Matrix:\n",
      "          Asset1    Asset2    Asset3\n",
      "Asset1  1.000000  0.983125  0.956706\n",
      "Asset2  0.983125  1.000000  0.991785\n",
      "Asset3  0.956706  0.991785  1.000000\n"
     ]
    }
   ],
   "source": [
    "# Calculate proportion of variance explained\n",
    "total_variance = np.sum(eigenvalues)\n",
    "variance_explained = eigenvalues / total_variance\n",
    "\n",
    "print(\"\\nVariance Explained by Each Principal Component:\")\n",
    "for i, var in enumerate(variance_explained):\n",
    "    print(f\"PC{i+1}: {var*100:.2f}%\")\n",
    "\n",
    "# Calculate cumulative variance explained\n",
    "cumulative_variance = np.cumsum(variance_explained)\n",
    "print(f\"\\nCumulative Variance: {cumulative_variance}\")\n",
    "\n",
    "# Calculate correlation matrix (optional)\n",
    "corr_matrix = returns_df.corr()\n",
    "print(\"\\nCorrelation Matrix:\")\n",
    "print(corr_matrix)"
   ]
  }
 ],
 "metadata": {
  "kernelspec": {
   "display_name": "Python 3",
   "language": "python",
   "name": "python3"
  },
  "language_info": {
   "codemirror_mode": {
    "name": "ipython",
    "version": 3
   },
   "file_extension": ".py",
   "mimetype": "text/x-python",
   "name": "python",
   "nbconvert_exporter": "python",
   "pygments_lexer": "ipython3",
   "version": "3.12.11"
  }
 },
 "nbformat": 4,
 "nbformat_minor": 5
}
