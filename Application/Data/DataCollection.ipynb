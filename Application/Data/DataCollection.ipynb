{
 "cells": [
  {
   "cell_type": "code",
   "execution_count": null,
   "id": "e0f4c40f",
   "metadata": {},
   "outputs": [
    {
     "name": "stdout",
     "output_type": "stream",
     "text": [
      "No data found. Please check symbol, series, or date range.\n"
     ]
    }
   ],
   "source": [
    "import os\n",
    "import pandas as pd\n",
    "from nsepython import nsefetch\n",
    "\n",
    "def get_historical_data(symbol: str,index_type:str, series: str, start_date: str, end_date: str, save_folder: str):\n",
    "\n",
    "    # NSE API for historical data\n",
    "    url_equity = f\"https://www.nseindia.com/api/historical/cm/equity?symbol={symbol}&series=[%22{series}%22]&from={start_date}&to={end_date}\"\n",
    "    url_indices = f\"https://www.nseindia.com/api/historical/indicesHistory?indexType={index_type}&from={start_date}&to={end_date}\"\n",
    "\n",
    "    # Fetch data\n",
    "    if series == \"EQ\":\n",
    "        url = url_equity\n",
    "    else:\n",
    "        url = url_indices\n",
    "    data = nsefetch(url)\n",
    "\n",
    "    # Convert to DataFrame\n",
    "    df = pd.DataFrame(data['data'])\n",
    "\n",
    "    if df.empty:\n",
    "        print(\"No data found. Please check symbol, series, or date range.\")\n",
    "        return\n",
    "\n",
    "    # Select useful columns\n",
    "    df = df[['CH_TIMESTAMP','CH_OPENING_PRICE','CH_TRADE_HIGH_PRICE',\n",
    "             'CH_TRADE_LOW_PRICE','CH_CLOSING_PRICE','CH_TOT_TRADED_QTY']]\n",
    "\n",
    "    # Rename columns\n",
    "    df.columns = ['Date','Open','High','Low','Close','Volume']\n",
    "\n",
    "    # Ensure folder exists\n",
    "    os.makedirs(save_folder, exist_ok=True)\n",
    "\n",
    "    # File path\n",
    "    file_path = os.path.join(save_folder, f\"{symbol}_history.parquet\")\n",
    "\n",
    "    # Save as parquet\n",
    "    df.to_parquet(file_path, index=False)\n",
    "    print(f\"Data saved successfully at: {file_path}\")\n",
    "\n",
    "\n",
    "\"\"\"# Example usage\n",
    "if __name__ == \"__main__\":\n",
    "    symbol = input(\"Enter Stock Symbol (e.g., RELIANCE): \")\n",
    "    series = input(\"Enter Series (e.g., EQ): \")\n",
    "    index_type = input(\"Enter Index Type (e.g., NIFTY 50): \")\n",
    "    start_date = input(\"Enter Start Date (DD-MM-YYYY): \")\n",
    "    end_date = input(\"Enter End Date (DD-MM-YYYY): \")\n",
    "    save_folder = \"/Users/vanshaj/Work/GitHub/Quant_Labs/Application/Data/Assets Data\"   # Change this folder name if needed\n",
    "\n",
    "    get_historical_data(symbol, series, index_type, start_date, end_date, save_folder)\"\"\""
   ]
  },
  {
   "cell_type": "code",
   "execution_count": null,
   "id": "da2dc19a",
   "metadata": {},
   "outputs": [
    {
     "name": "stdout",
     "output_type": "stream",
     "text": [
      "No data found. Please check symbol, series, or date range.\n"
     ]
    }
   ],
   "source": [
    "\n",
    "get_historical_data(symbol, series, index_type, start_date, end_date, save_folder)"
   ]
  },
  {
   "cell_type": "code",
   "execution_count": 7,
   "id": "2ca18d3d",
   "metadata": {},
   "outputs": [
    {
     "name": "stdout",
     "output_type": "stream",
     "text": [
      "Data saved successfully at: /Users/vanshaj/Work/GitHub/Quant_Labs/Application/Data/Assets Data/RELIANCE_history.parquet\n"
     ]
    }
   ],
   "source": [
    "if __name__ == \"__main__\":\n",
    "    symbol = input(\"Enter Stock Symbol (e.g., RELIANCE): \")\n",
    "    series = input(\"Enter Series (e.g., EQ): \")\n",
    "    start_date = input(\"Enter Start Date (DD-MM-YYYY): \")\n",
    "    end_date = input(\"Enter End Date (DD-MM-YYYY): \")\n",
    "    save_folder = \"/Users/vanshaj/Work/GitHub/Quant_Labs/Application/Data/Assets Data\"   # Change this folder name if needed\n",
    "\n",
    "    get_historical_data(symbol, series, start_date, end_date, save_folder)"
   ]
  }
 ],
 "metadata": {
  "kernelspec": {
   "display_name": "Python 3",
   "language": "python",
   "name": "python3"
  },
  "language_info": {
   "codemirror_mode": {
    "name": "ipython",
    "version": 3
   },
   "file_extension": ".py",
   "mimetype": "text/x-python",
   "name": "python",
   "nbconvert_exporter": "python",
   "pygments_lexer": "ipython3",
   "version": "3.12.11"
  }
 },
 "nbformat": 4,
 "nbformat_minor": 5
}
