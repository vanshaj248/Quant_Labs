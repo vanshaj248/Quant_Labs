{
 "cells": [
  {
   "cell_type": "code",
   "execution_count": null,
   "id": "e0f4c40f",
   "metadata": {},
   "outputs": [
    {
     "name": "stdout",
     "output_type": "stream",
     "text": [
      "No data found. Please check symbol, series, or date range.\n"
     ]
    }
   ],
   "source": [
    "import os\n",
    "import pandas as pd\n",
    "from nsepython import nsefetch\n",
    "\n",
    "def get_historical_data(symbol: str,index_type:str, series: str, start_date: str, end_date: str, save_folder: str):\n",
    "\n",
    "    # NSE API for historical data\n",
    "    url_equity = f\"https://www.nseindia.com/api/historical/cm/equity?symbol={symbol}&series=[%22{series}%22]&from={start_date}&to={end_date}\"\n",
    "    url_indices = f\"https://www.nseindia.com/api/historical/indicesHistory?indexType={index_type}&from={start_date}&to={end_date}\"\n",
    "\n",
    "    # Fetch data\n",
    "    if series == \"EQ\":\n",
    "        url = url_equity\n",
    "    else:\n",
    "        url = url_indices\n",
    "    data = nsefetch(url)\n",
    "\n",
    "    # Convert to DataFrame\n",
    "    df = pd.DataFrame(data['data'])\n",
    "\n",
    "    if df.empty:\n",
    "        print(\"No data found. Please check symbol, series, or date range.\")\n",
    "        return\n",
    "\n",
    "    # Select useful columns\n",
    "    if series == \"EQ\":\n",
    "        df = df[['CH_TIMESTAMP','CH_OPENING_PRICE','CH_TRADE_HIGH_PRICE',\n",
    "                'CH_TRADE_LOW_PRICE','CH_CLOSING_PRICE','CH_TOT_TRADED_QTY']]\n",
    "    else:\n",
    "        df = df[['EOD_TIMESTAMP','EOD_OPEN_INDEX_VAL','EOD_HIGH_INDEX_VAL',\n",
    "                'EOD_LOW_INDEX_VAL','EOD_CLOSE_INDEX_VAL','HIT_TRADED_QTY']]\n",
    "    # Rename columns\n",
    "    df.columns = ['Date','Open','High','Low','Close','Volume']\n",
    "\n",
    "    # Ensure folder exists\n",
    "    os.makedirs(save_folder, exist_ok=True)\n",
    "\n",
    "    # File path\n",
    "    if series == \"EQ\":\n",
    "        file_path = os.path.join(save_folder, f\"{symbol}_history.parquet\")\n",
    "    else:\n",
    "        file_path = os.path.join(save_folder, f\"{index_type}_history.parquet\")\n",
    "\n",
    "    # Save as parquet\n",
    "    df.to_parquet(file_path, index=False)\n",
    "    print(f\"Data saved successfully at: {file_path}\")\n",
    "\n",
    "\n",
    "\"\"\"# Example usage\n",
    "if __name__ == \"__main__\":\n",
    "    symbol = input(\"Enter Stock Symbol (e.g., RELIANCE): \")\n",
    "    series = input(\"Enter Series (e.g., EQ): \")\n",
    "    index_type = input(\"Enter Index Type (e.g., NIFTY 50): \")\n",
    "    start_date = input(\"Enter Start Date (DD-MM-YYYY): \")\n",
    "    end_date = input(\"Enter End Date (DD-MM-YYYY): \")\n",
    "    save_folder = \"/Users/vanshaj/Work/GitHub/Quant_Labs/Application/Data/Assets Data\"   # Change this folder name if needed\n",
    "\n",
    "    get_historical_data(symbol, series, index_type, start_date, end_date, save_folder)\"\"\""
   ]
  },
  {
   "cell_type": "code",
   "execution_count": 9,
   "id": "308a744d",
   "metadata": {},
   "outputs": [
    {
     "name": "stdout",
     "output_type": "stream",
     "text": [
      "https://www.nseindia.com/api/historical/indicesHistory?indexType=NIFTY 50&from=01-01-2020&to=30-12-2020\n",
      "                             indexCloseOnlineRecords  \\\n",
      "0  {'_id': '5f9bf9149fd3e00008024049', 'EOD_INDEX...   \n",
      "1  {'_id': '5f9bf916e3861100081f40ab', 'EOD_INDEX...   \n",
      "2  {'_id': '5f9bf9173af54c00083c67f8', 'EOD_INDEX...   \n",
      "3  {'_id': '5f9bf9188636840008db11df', 'EOD_INDEX...   \n",
      "4  {'_id': '5f9bf919e3861100081f40e6', 'EOD_INDEX...   \n",
      "\n",
      "                                indexTurnoverRecords  \n",
      "0  {'_id': '64903be5e49910000725e53e', 'HIT_INDEX...  \n",
      "1  {'_id': '64903beae44cd3000637a087', 'HIT_INDEX...  \n",
      "2  {'_id': '64903befcba4890007b68490', 'HIT_INDEX...  \n",
      "3  {'_id': '64903bf40a1e09000780108c', 'HIT_INDEX...  \n",
      "4  {'_id': '64903bf9dd80ce0007e54e5c', 'HIT_INDEX...  \n"
     ]
    }
   ],
   "source": [
    "#url_indices = f\"https://www.nseindia.com/api/historical/indicesHistory?indexType=NIFTY 50&from=01-01-2025&to=01-04-2025\"\n",
    "\n",
    "from nsepython import nsefetch\n",
    "import pandas as pd\n",
    "\n",
    "# Parameters\n",
    "index_name = \"NIFTY 50\"\n",
    "start_date = \"01-01-2020\"\n",
    "end_date = \"30-12-2020\"\n",
    "\n",
    "# Fetch historical index data using nsefetch\n",
    "url_indices = f\"https://www.nseindia.com/api/historical/indicesHistory?indexType={index_name}&from={start_date}&to={end_date}\"\n",
    "data = nsefetch(url_indices)\n",
    "df = pd.DataFrame(data['data'])\n",
    "\n",
    "# Save to parquet (optional)\n",
    "#df.to_parquet(\"nifty50_history.parquet\", index=False)\n",
    "print(url_indices)\n",
    "print(df.head())"
   ]
  }
 ],
 "metadata": {
  "kernelspec": {
   "display_name": "Python 3",
   "language": "python",
   "name": "python3"
  },
  "language_info": {
   "codemirror_mode": {
    "name": "ipython",
    "version": 3
   },
   "file_extension": ".py",
   "mimetype": "text/x-python",
   "name": "python",
   "nbconvert_exporter": "python",
   "pygments_lexer": "ipython3",
   "version": "3.12.11"
  }
 },
 "nbformat": 4,
 "nbformat_minor": 5
}
