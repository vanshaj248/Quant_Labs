{
 "cells": [
  {
   "cell_type": "code",
   "execution_count": 1,
   "id": "0b5f62ac",
   "metadata": {},
   "outputs": [
    {
     "name": "stdout",
     "output_type": "stream",
     "text": [
      "✅ Parquet file generated: top50_indian_stocks.parquet\n"
     ]
    }
   ],
   "source": [
    "import pandas as pd\n",
    "\n",
    "# Top 50 Indian companies by market cap (as of 2025) with EQ series\n",
    "symbols = [\n",
    "    \"RELIANCE\", \"HDFCBANK\", \"TCS\", \"BHARTIARTL\", \"ICICIBANK\", \"SBIN\", \"INFY\", \"HINDUNILVR\",\n",
    "    \"ITC\", \"LICI\", \"BAJFINANCE\", \"LT\", \"HCLTECH\", \"M&M\", \"MARUTI\", \"KOTAKBANK\", \"AXISBANK\",\n",
    "    \"ASIANPAINT\", \"TITAN\", \"SUNPHARMA\", \"BAJAJFINSV\", \"DMART\", \"ULTRACEMCO\", \"ONGC\", \"NTPC\",\n",
    "    \"WIPRO\", \"NESTLEIND\", \"TATAMOTORS\", \"JSWSTEEL\", \"POWERGRID\", \"ADANIPORTS\", \"COALINDIA\",\n",
    "    \"ADANIGREEN\", \"LTIM\", \"TATASTEEL\", \"ADANIPOWER\", \"JIOFIN\", \"BAJAJAUTO\", \"HDFCLIFE\",\n",
    "    \"GRASIM\", \"TECHM\", \"SBILIFE\", \"ADANIENT\", \"DIVISLAB\", \"PIDILITIND\", \"BPCL\", \"IOC\",\n",
    "    \"HEROMOTOCO\", \"BRITANNIA\"\n",
    "]\n",
    "\n",
    "# Create DataFrame\n",
    "df = pd.DataFrame({\n",
    "    \"Symbol\": symbols,\n",
    "    \"Series\": [\"EQ\"] * len(symbols)\n",
    "})\n",
    "\n",
    "# Save as Parquet\n",
    "df.to_parquet(\"top50_indian_stocks.parquet\", engine=\"pyarrow\", index=False)\n",
    "\n",
    "print(\"✅ Parquet file generated: top50_indian_stocks.parquet\")"
   ]
  },
  {
   "cell_type": "code",
   "execution_count": 7,
   "id": "9eb25955",
   "metadata": {},
   "outputs": [
    {
     "name": "stdout",
     "output_type": "stream",
     "text": [
      "✅ Parquet file generated: indian_indices.parquet\n"
     ]
    }
   ],
   "source": [
    "import pandas as pd\n",
    "\n",
    "# List of major Indian stock indices symbols (as of 2025)\n",
    "indices = [\n",
    "     \"NIFTY 50\", \"NIFTY NEXT 50\", \"NIFTY MIDCAP 50\", \"NIFTY MIDCAP 100\", \"NIFTY MIDCAP 150\",\n",
    "     \"NIFTY SMALLCAP 50\", \"NIFTY SMALLCAP 100\", \"NIFTY SMALLCAP 250\", \"NIFTY 100\", \"NIFTY 200\",\n",
    "     \"NIFTY 500\", \"NIFTY BANK\", \"NIFTY FINANCIAL SERVICES\", \"NIFTY FMCG\", \"NIFTY IT\",\n",
    "     \"NIFTY PHARMA\", \"NIFTY AUTO\", \"NIFTY METAL\", \"NIFTY REALTY\", \"NIFTY ENERGY\",\n",
    "     \"NIFTY INFRASTRUCTURE\", \"NIFTY HEALTHCARE\", \"NIFTY PSU BANK\", \"NIFTY PRIVATE BANK\",\n",
    "     \"NIFTY MEDIA\", \"NIFTY OIL & GAS\", \"NIFTY CONSUMPTION\", \"NIFTY COMMODITIES\",\n",
    "     \"NIFTY MNC\", \"NIFTY PSE\", \"NIFTY SERVICES SECTOR\", \"NIFTY CPSE\", \"NIFTY GROWTH SECTORS LEADERS\",\n",
    "     \"NIFTY ALPHA 50\", \"NIFTY LOW VOLATILITY 50\", \"NIFTY HIGH BETA 50\", \"NIFTY DIVIDEND OPPORTUNITIES 50\",\n",
    "     \"NIFTY QUALITY 30\", \"NIFTY VALUE 20\", \"NIFTY 50 EQUAL WEIGHT\", \"NIFTY 100 EQUAL WEIGHT\",\n",
    "     \"NIFTY 500 MULTICAP 50:25:25\", \"NIFTY MICROCAP 250\", \"NIFTY TOTAL MARKET\", \"NIFTY INDIA MANUFACTURING\",\n",
    "     \"NIFTY INDIA CONSUMPTION\", \"NIFTY INDIA DIGITAL\", \"NIFTY INDIA DEFENCE\", \"NIFTY INDIA TOURISM\"\n",
    "]\n",
    "\n",
    "# Create DataFrame\n",
    "df = pd.DataFrame({\n",
    "    \"indices\": indices,\n",
    "})\n",
    "\n",
    "# Save as Parquet\n",
    "df.to_parquet(\"indian_indices.parquet\", engine=\"pyarrow\", index=False)\n",
    "\n",
    "print(\"✅ Parquet file generated: indian_indices.parquet\")"
   ]
  },
  {
   "cell_type": "code",
   "execution_count": 18,
   "id": "1a915e6f",
   "metadata": {},
   "outputs": [
    {
     "name": "stdout",
     "output_type": "stream",
     "text": [
      "Data saved successfully at: /Users/vanshaj/Work/GitHub/Quant_Labs/Application/Data/Assets Data/EQUITY/RELIANCE_history.parquet\n",
      "Data saved successfully at: /Users/vanshaj/Work/GitHub/Quant_Labs/Application/Data/Assets Data/EQUITY/HDFCBANK_history.parquet\n",
      "Data saved successfully at: /Users/vanshaj/Work/GitHub/Quant_Labs/Application/Data/Assets Data/EQUITY/TCS_history.parquet\n",
      "Data saved successfully at: /Users/vanshaj/Work/GitHub/Quant_Labs/Application/Data/Assets Data/EQUITY/BHARTIARTL_history.parquet\n",
      "Data saved successfully at: /Users/vanshaj/Work/GitHub/Quant_Labs/Application/Data/Assets Data/EQUITY/ICICIBANK_history.parquet\n",
      "Data saved successfully at: /Users/vanshaj/Work/GitHub/Quant_Labs/Application/Data/Assets Data/EQUITY/SBIN_history.parquet\n",
      "Data saved successfully at: /Users/vanshaj/Work/GitHub/Quant_Labs/Application/Data/Assets Data/EQUITY/INFY_history.parquet\n",
      "Data saved successfully at: /Users/vanshaj/Work/GitHub/Quant_Labs/Application/Data/Assets Data/EQUITY/HINDUNILVR_history.parquet\n",
      "Data saved successfully at: /Users/vanshaj/Work/GitHub/Quant_Labs/Application/Data/Assets Data/EQUITY/ITC_history.parquet\n",
      "Data saved successfully at: /Users/vanshaj/Work/GitHub/Quant_Labs/Application/Data/Assets Data/EQUITY/LICI_history.parquet\n",
      "Data saved successfully at: /Users/vanshaj/Work/GitHub/Quant_Labs/Application/Data/Assets Data/EQUITY/BAJFINANCE_history.parquet\n",
      "Data saved successfully at: /Users/vanshaj/Work/GitHub/Quant_Labs/Application/Data/Assets Data/EQUITY/LT_history.parquet\n",
      "Data saved successfully at: /Users/vanshaj/Work/GitHub/Quant_Labs/Application/Data/Assets Data/EQUITY/HCLTECH_history.parquet\n",
      "No data found. Please check symbol, series, or date range.\n",
      "Data saved successfully at: /Users/vanshaj/Work/GitHub/Quant_Labs/Application/Data/Assets Data/EQUITY/MARUTI_history.parquet\n",
      "Data saved successfully at: /Users/vanshaj/Work/GitHub/Quant_Labs/Application/Data/Assets Data/EQUITY/KOTAKBANK_history.parquet\n",
      "Data saved successfully at: /Users/vanshaj/Work/GitHub/Quant_Labs/Application/Data/Assets Data/EQUITY/AXISBANK_history.parquet\n",
      "Data saved successfully at: /Users/vanshaj/Work/GitHub/Quant_Labs/Application/Data/Assets Data/EQUITY/ASIANPAINT_history.parquet\n",
      "Data saved successfully at: /Users/vanshaj/Work/GitHub/Quant_Labs/Application/Data/Assets Data/EQUITY/TITAN_history.parquet\n",
      "Data saved successfully at: /Users/vanshaj/Work/GitHub/Quant_Labs/Application/Data/Assets Data/EQUITY/SUNPHARMA_history.parquet\n",
      "Data saved successfully at: /Users/vanshaj/Work/GitHub/Quant_Labs/Application/Data/Assets Data/EQUITY/BAJAJFINSV_history.parquet\n",
      "Data saved successfully at: /Users/vanshaj/Work/GitHub/Quant_Labs/Application/Data/Assets Data/EQUITY/DMART_history.parquet\n",
      "Data saved successfully at: /Users/vanshaj/Work/GitHub/Quant_Labs/Application/Data/Assets Data/EQUITY/ULTRACEMCO_history.parquet\n",
      "Data saved successfully at: /Users/vanshaj/Work/GitHub/Quant_Labs/Application/Data/Assets Data/EQUITY/ONGC_history.parquet\n",
      "Data saved successfully at: /Users/vanshaj/Work/GitHub/Quant_Labs/Application/Data/Assets Data/EQUITY/NTPC_history.parquet\n",
      "Data saved successfully at: /Users/vanshaj/Work/GitHub/Quant_Labs/Application/Data/Assets Data/EQUITY/WIPRO_history.parquet\n",
      "Data saved successfully at: /Users/vanshaj/Work/GitHub/Quant_Labs/Application/Data/Assets Data/EQUITY/NESTLEIND_history.parquet\n",
      "Data saved successfully at: /Users/vanshaj/Work/GitHub/Quant_Labs/Application/Data/Assets Data/EQUITY/TATAMOTORS_history.parquet\n",
      "Data saved successfully at: /Users/vanshaj/Work/GitHub/Quant_Labs/Application/Data/Assets Data/EQUITY/JSWSTEEL_history.parquet\n",
      "Data saved successfully at: /Users/vanshaj/Work/GitHub/Quant_Labs/Application/Data/Assets Data/EQUITY/POWERGRID_history.parquet\n",
      "Data saved successfully at: /Users/vanshaj/Work/GitHub/Quant_Labs/Application/Data/Assets Data/EQUITY/ADANIPORTS_history.parquet\n",
      "Data saved successfully at: /Users/vanshaj/Work/GitHub/Quant_Labs/Application/Data/Assets Data/EQUITY/COALINDIA_history.parquet\n",
      "Data saved successfully at: /Users/vanshaj/Work/GitHub/Quant_Labs/Application/Data/Assets Data/EQUITY/ADANIGREEN_history.parquet\n",
      "Data saved successfully at: /Users/vanshaj/Work/GitHub/Quant_Labs/Application/Data/Assets Data/EQUITY/LTIM_history.parquet\n",
      "Data saved successfully at: /Users/vanshaj/Work/GitHub/Quant_Labs/Application/Data/Assets Data/EQUITY/TATASTEEL_history.parquet\n",
      "Data saved successfully at: /Users/vanshaj/Work/GitHub/Quant_Labs/Application/Data/Assets Data/EQUITY/ADANIPOWER_history.parquet\n",
      "Data saved successfully at: /Users/vanshaj/Work/GitHub/Quant_Labs/Application/Data/Assets Data/EQUITY/JIOFIN_history.parquet\n",
      "Data saved successfully at: /Users/vanshaj/Work/GitHub/Quant_Labs/Application/Data/Assets Data/EQUITY/BAJAJAUTO_history.parquet\n",
      "Data saved successfully at: /Users/vanshaj/Work/GitHub/Quant_Labs/Application/Data/Assets Data/EQUITY/HDFCLIFE_history.parquet\n",
      "Data saved successfully at: /Users/vanshaj/Work/GitHub/Quant_Labs/Application/Data/Assets Data/EQUITY/GRASIM_history.parquet\n",
      "Data saved successfully at: /Users/vanshaj/Work/GitHub/Quant_Labs/Application/Data/Assets Data/EQUITY/TECHM_history.parquet\n",
      "Data saved successfully at: /Users/vanshaj/Work/GitHub/Quant_Labs/Application/Data/Assets Data/EQUITY/SBILIFE_history.parquet\n",
      "Data saved successfully at: /Users/vanshaj/Work/GitHub/Quant_Labs/Application/Data/Assets Data/EQUITY/ADANIENT_history.parquet\n",
      "Data saved successfully at: /Users/vanshaj/Work/GitHub/Quant_Labs/Application/Data/Assets Data/EQUITY/DIVISLAB_history.parquet\n",
      "Data saved successfully at: /Users/vanshaj/Work/GitHub/Quant_Labs/Application/Data/Assets Data/EQUITY/PIDILITIND_history.parquet\n",
      "Data saved successfully at: /Users/vanshaj/Work/GitHub/Quant_Labs/Application/Data/Assets Data/EQUITY/BPCL_history.parquet\n",
      "Data saved successfully at: /Users/vanshaj/Work/GitHub/Quant_Labs/Application/Data/Assets Data/EQUITY/IOC_history.parquet\n",
      "Data saved successfully at: /Users/vanshaj/Work/GitHub/Quant_Labs/Application/Data/Assets Data/EQUITY/HEROMOTOCO_history.parquet\n",
      "Data saved successfully at: /Users/vanshaj/Work/GitHub/Quant_Labs/Application/Data/Assets Data/EQUITY/BRITANNIA_history.parquet\n"
     ]
    }
   ],
   "source": [
    "from data_coll import get_historical_data\n",
    "df = pd.read_parquet(\"/Users/vanshaj/Work/GitHub/Quant_Labs/Application/Data/top50_indian_stocks.parquet\", engine=\"pyarrow\")\n",
    "symbols = df[\"Symbol\"].tolist()\n",
    "for symbol in symbols:\n",
    "    series = \"EQ\"\n",
    "    start_date = \"01-01-2025\"\n",
    "    end_date = \"31-03-2025\"\n",
    "    save_folder = \"/Users/vanshaj/Work/GitHub/Quant_Labs/Application/Data/Assets Data/EQUITY\"   # Change this folder name if needed\n",
    "\n",
    "    get_historical_data(symbol, \"\", series, start_date, end_date, save_folder)"
   ]
  },
  {
   "cell_type": "code",
   "execution_count": null,
   "id": "f335fe51",
   "metadata": {},
   "outputs": [
    {
     "ename": "KeyError",
     "evalue": "\"None of [Index(['CH_TIMESTAMP', 'CH_OPENING_PRICE', 'CH_TRADE_HIGH_PRICE',\\n       'CH_TRADE_LOW_PRICE', 'CH_CLOSING_PRICE', 'CH_TOT_TRADED_QTY'],\\n      dtype='object')] are in the [columns]\"",
     "output_type": "error",
     "traceback": [
      "\u001b[31m---------------------------------------------------------------------------\u001b[39m",
      "\u001b[31mKeyError\u001b[39m                                  Traceback (most recent call last)",
      "\u001b[36mCell\u001b[39m\u001b[36m \u001b[39m\u001b[32mIn[17]\u001b[39m\u001b[32m, line 9\u001b[39m\n\u001b[32m      6\u001b[39m end_date = \u001b[33m\"\u001b[39m\u001b[33m31-03-2025\u001b[39m\u001b[33m\"\u001b[39m\n\u001b[32m      7\u001b[39m save_folder = \u001b[33m\"\u001b[39m\u001b[33m/Users/vanshaj/Work/GitHub/Quant_Labs/Application/Data/Assets Data/INDICES\u001b[39m\u001b[33m\"\u001b[39m   \n\u001b[32m----> \u001b[39m\u001b[32m9\u001b[39m \u001b[43mget_historical_data\u001b[49m\u001b[43m(\u001b[49m\u001b[33;43m\"\u001b[39;49m\u001b[33;43m\"\u001b[39;49m\u001b[43m,\u001b[49m\u001b[43m \u001b[49m\u001b[43mindex_type\u001b[49m\u001b[43m,\u001b[49m\u001b[43m \u001b[49m\u001b[33;43m\"\u001b[39;49m\u001b[33;43m\"\u001b[39;49m\u001b[43m,\u001b[49m\u001b[43m \u001b[49m\u001b[43mstart_date\u001b[49m\u001b[43m,\u001b[49m\u001b[43m \u001b[49m\u001b[43mend_date\u001b[49m\u001b[43m,\u001b[49m\u001b[43m \u001b[49m\u001b[43msave_folder\u001b[49m\u001b[43m)\u001b[49m\n",
      "\u001b[36mFile \u001b[39m\u001b[32m~/Work/GitHub/Quant_Labs/Application/Data/data_coll.py:31\u001b[39m, in \u001b[36mget_historical_data\u001b[39m\u001b[34m(symbol, index_type, series, start_date, end_date, save_folder)\u001b[39m\n\u001b[32m     28\u001b[39m     \u001b[38;5;28;01mreturn\u001b[39;00m\n\u001b[32m     30\u001b[39m \u001b[38;5;66;03m# Select useful columns\u001b[39;00m\n\u001b[32m---> \u001b[39m\u001b[32m31\u001b[39m df = \u001b[43mdf\u001b[49m\u001b[43m[\u001b[49m\u001b[43m[\u001b[49m\u001b[33;43m'\u001b[39;49m\u001b[33;43mCH_TIMESTAMP\u001b[39;49m\u001b[33;43m'\u001b[39;49m\u001b[43m,\u001b[49m\u001b[33;43m'\u001b[39;49m\u001b[33;43mCH_OPENING_PRICE\u001b[39;49m\u001b[33;43m'\u001b[39;49m\u001b[43m,\u001b[49m\u001b[33;43m'\u001b[39;49m\u001b[33;43mCH_TRADE_HIGH_PRICE\u001b[39;49m\u001b[33;43m'\u001b[39;49m\u001b[43m,\u001b[49m\n\u001b[32m     32\u001b[39m \u001b[43m         \u001b[49m\u001b[33;43m'\u001b[39;49m\u001b[33;43mCH_TRADE_LOW_PRICE\u001b[39;49m\u001b[33;43m'\u001b[39;49m\u001b[43m,\u001b[49m\u001b[33;43m'\u001b[39;49m\u001b[33;43mCH_CLOSING_PRICE\u001b[39;49m\u001b[33;43m'\u001b[39;49m\u001b[43m,\u001b[49m\u001b[33;43m'\u001b[39;49m\u001b[33;43mCH_TOT_TRADED_QTY\u001b[39;49m\u001b[33;43m'\u001b[39;49m\u001b[43m]\u001b[49m\u001b[43m]\u001b[49m\n\u001b[32m     34\u001b[39m \u001b[38;5;66;03m# Rename columns\u001b[39;00m\n\u001b[32m     35\u001b[39m df.columns = [\u001b[33m'\u001b[39m\u001b[33mDate\u001b[39m\u001b[33m'\u001b[39m,\u001b[33m'\u001b[39m\u001b[33mOpen\u001b[39m\u001b[33m'\u001b[39m,\u001b[33m'\u001b[39m\u001b[33mHigh\u001b[39m\u001b[33m'\u001b[39m,\u001b[33m'\u001b[39m\u001b[33mLow\u001b[39m\u001b[33m'\u001b[39m,\u001b[33m'\u001b[39m\u001b[33mClose\u001b[39m\u001b[33m'\u001b[39m,\u001b[33m'\u001b[39m\u001b[33mVolume\u001b[39m\u001b[33m'\u001b[39m]\n",
      "\u001b[36mFile \u001b[39m\u001b[32m/opt/homebrew/lib/python3.12/site-packages/pandas/core/frame.py:4113\u001b[39m, in \u001b[36mDataFrame.__getitem__\u001b[39m\u001b[34m(self, key)\u001b[39m\n\u001b[32m   4111\u001b[39m     \u001b[38;5;28;01mif\u001b[39;00m is_iterator(key):\n\u001b[32m   4112\u001b[39m         key = \u001b[38;5;28mlist\u001b[39m(key)\n\u001b[32m-> \u001b[39m\u001b[32m4113\u001b[39m     indexer = \u001b[38;5;28;43mself\u001b[39;49m\u001b[43m.\u001b[49m\u001b[43mcolumns\u001b[49m\u001b[43m.\u001b[49m\u001b[43m_get_indexer_strict\u001b[49m\u001b[43m(\u001b[49m\u001b[43mkey\u001b[49m\u001b[43m,\u001b[49m\u001b[43m \u001b[49m\u001b[33;43m\"\u001b[39;49m\u001b[33;43mcolumns\u001b[39;49m\u001b[33;43m\"\u001b[39;49m\u001b[43m)\u001b[49m[\u001b[32m1\u001b[39m]\n\u001b[32m   4115\u001b[39m \u001b[38;5;66;03m# take() does not accept boolean indexers\u001b[39;00m\n\u001b[32m   4116\u001b[39m \u001b[38;5;28;01mif\u001b[39;00m \u001b[38;5;28mgetattr\u001b[39m(indexer, \u001b[33m\"\u001b[39m\u001b[33mdtype\u001b[39m\u001b[33m\"\u001b[39m, \u001b[38;5;28;01mNone\u001b[39;00m) == \u001b[38;5;28mbool\u001b[39m:\n",
      "\u001b[36mFile \u001b[39m\u001b[32m/opt/homebrew/lib/python3.12/site-packages/pandas/core/indexes/base.py:6212\u001b[39m, in \u001b[36mIndex._get_indexer_strict\u001b[39m\u001b[34m(self, key, axis_name)\u001b[39m\n\u001b[32m   6209\u001b[39m \u001b[38;5;28;01melse\u001b[39;00m:\n\u001b[32m   6210\u001b[39m     keyarr, indexer, new_indexer = \u001b[38;5;28mself\u001b[39m._reindex_non_unique(keyarr)\n\u001b[32m-> \u001b[39m\u001b[32m6212\u001b[39m \u001b[38;5;28;43mself\u001b[39;49m\u001b[43m.\u001b[49m\u001b[43m_raise_if_missing\u001b[49m\u001b[43m(\u001b[49m\u001b[43mkeyarr\u001b[49m\u001b[43m,\u001b[49m\u001b[43m \u001b[49m\u001b[43mindexer\u001b[49m\u001b[43m,\u001b[49m\u001b[43m \u001b[49m\u001b[43maxis_name\u001b[49m\u001b[43m)\u001b[49m\n\u001b[32m   6214\u001b[39m keyarr = \u001b[38;5;28mself\u001b[39m.take(indexer)\n\u001b[32m   6215\u001b[39m \u001b[38;5;28;01mif\u001b[39;00m \u001b[38;5;28misinstance\u001b[39m(key, Index):\n\u001b[32m   6216\u001b[39m     \u001b[38;5;66;03m# GH 42790 - Preserve name from an Index\u001b[39;00m\n",
      "\u001b[36mFile \u001b[39m\u001b[32m/opt/homebrew/lib/python3.12/site-packages/pandas/core/indexes/base.py:6261\u001b[39m, in \u001b[36mIndex._raise_if_missing\u001b[39m\u001b[34m(self, key, indexer, axis_name)\u001b[39m\n\u001b[32m   6259\u001b[39m \u001b[38;5;28;01mif\u001b[39;00m nmissing:\n\u001b[32m   6260\u001b[39m     \u001b[38;5;28;01mif\u001b[39;00m nmissing == \u001b[38;5;28mlen\u001b[39m(indexer):\n\u001b[32m-> \u001b[39m\u001b[32m6261\u001b[39m         \u001b[38;5;28;01mraise\u001b[39;00m \u001b[38;5;167;01mKeyError\u001b[39;00m(\u001b[33mf\u001b[39m\u001b[33m\"\u001b[39m\u001b[33mNone of [\u001b[39m\u001b[38;5;132;01m{\u001b[39;00mkey\u001b[38;5;132;01m}\u001b[39;00m\u001b[33m] are in the [\u001b[39m\u001b[38;5;132;01m{\u001b[39;00maxis_name\u001b[38;5;132;01m}\u001b[39;00m\u001b[33m]\u001b[39m\u001b[33m\"\u001b[39m)\n\u001b[32m   6263\u001b[39m     not_found = \u001b[38;5;28mlist\u001b[39m(ensure_index(key)[missing_mask.nonzero()[\u001b[32m0\u001b[39m]].unique())\n\u001b[32m   6264\u001b[39m     \u001b[38;5;28;01mraise\u001b[39;00m \u001b[38;5;167;01mKeyError\u001b[39;00m(\u001b[33mf\u001b[39m\u001b[33m\"\u001b[39m\u001b[38;5;132;01m{\u001b[39;00mnot_found\u001b[38;5;132;01m}\u001b[39;00m\u001b[33m not in index\u001b[39m\u001b[33m\"\u001b[39m)\n",
      "\u001b[31mKeyError\u001b[39m: \"None of [Index(['CH_TIMESTAMP', 'CH_OPENING_PRICE', 'CH_TRADE_HIGH_PRICE',\\n       'CH_TRADE_LOW_PRICE', 'CH_CLOSING_PRICE', 'CH_TOT_TRADED_QTY'],\\n      dtype='object')] are in the [columns]\""
     ]
    }
   ],
   "source": [
    "from data_coll import get_historical_data\n",
    "df = pd.read_parquet(\"/Users/vanshaj/Work/GitHub/Quant_Labs/Application/Data/indian_indices.parquet\", engine=\"pyarrow\")\n",
    "indices = df[\"indices\"].tolist()\n",
    "for index_type in indices:\n",
    "    start_date = \"01-01-2025\"\n",
    "    end_date = \"31-03-2025\"\n",
    "    save_folder = \"/Users/vanshaj/Work/GitHub/Quant_Labs/Application/Data/Assets Data/INDICES\"   \n",
    "\n",
    "    get_historical_data(\"\", index_type, \"\", start_date, end_date, save_folder)"
   ]
  }
 ],
 "metadata": {
  "kernelspec": {
   "display_name": "Python 3",
   "language": "python",
   "name": "python3"
  },
  "language_info": {
   "codemirror_mode": {
    "name": "ipython",
    "version": 3
   },
   "file_extension": ".py",
   "mimetype": "text/x-python",
   "name": "python",
   "nbconvert_exporter": "python",
   "pygments_lexer": "ipython3",
   "version": "3.12.11"
  }
 },
 "nbformat": 4,
 "nbformat_minor": 5
}
