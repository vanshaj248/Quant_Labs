{
 "cells": [
  {
   "cell_type": "code",
   "execution_count": 1,
   "id": "0b5f62ac",
   "metadata": {},
   "outputs": [
    {
     "name": "stdout",
     "output_type": "stream",
     "text": [
      "✅ Parquet file generated: top50_indian_stocks.parquet\n"
     ]
    }
   ],
   "source": [
    "import pandas as pd\n",
    "\n",
    "# Top 50 Indian companies by market cap (as of 2025) with EQ series\n",
    "symbols = [\n",
    "    \"RELIANCE\", \"HDFCBANK\", \"TCS\", \"BHARTIARTL\", \"ICICIBANK\", \"SBIN\", \"INFY\", \"HINDUNILVR\",\n",
    "    \"ITC\", \"LICI\", \"BAJFINANCE\", \"LT\", \"HCLTECH\", \"M&M\", \"MARUTI\", \"KOTAKBANK\", \"AXISBANK\",\n",
    "    \"ASIANPAINT\", \"TITAN\", \"SUNPHARMA\", \"BAJAJFINSV\", \"DMART\", \"ULTRACEMCO\", \"ONGC\", \"NTPC\",\n",
    "    \"WIPRO\", \"NESTLEIND\", \"TATAMOTORS\", \"JSWSTEEL\", \"POWERGRID\", \"ADANIPORTS\", \"COALINDIA\",\n",
    "    \"ADANIGREEN\", \"LTIM\", \"TATASTEEL\", \"ADANIPOWER\", \"JIOFIN\", \"BAJAJAUTO\", \"HDFCLIFE\",\n",
    "    \"GRASIM\", \"TECHM\", \"SBILIFE\", \"ADANIENT\", \"DIVISLAB\", \"PIDILITIND\", \"BPCL\", \"IOC\",\n",
    "    \"HEROMOTOCO\", \"BRITANNIA\"\n",
    "]\n",
    "\n",
    "# Create DataFrame\n",
    "df = pd.DataFrame({\n",
    "    \"Symbol\": symbols,\n",
    "    \"Series\": [\"EQ\"] * len(symbols)\n",
    "})\n",
    "\n",
    "# Save as Parquet\n",
    "df.to_parquet(\"top50_indian_stocks.parquet\", engine=\"pyarrow\", index=False)\n",
    "\n",
    "print(\"✅ Parquet file generated: top50_indian_stocks.parquet\")"
   ]
  },
  {
   "cell_type": "code",
   "execution_count": 11,
   "id": "1a915e6f",
   "metadata": {},
   "outputs": [
    {
     "ename": "TypeError",
     "evalue": "get_historical_data() missing 1 required positional argument: 'save_folder'",
     "output_type": "error",
     "traceback": [
      "\u001b[31m---------------------------------------------------------------------------\u001b[39m",
      "\u001b[31mTypeError\u001b[39m                                 Traceback (most recent call last)",
      "\u001b[36mCell\u001b[39m\u001b[36m \u001b[39m\u001b[32mIn[11]\u001b[39m\u001b[32m, line 12\u001b[39m\n\u001b[32m      9\u001b[39m end_date = \u001b[33m\"\u001b[39m\u001b[33m31-12-2023\u001b[39m\u001b[33m\"\u001b[39m\n\u001b[32m     10\u001b[39m save_folder = \u001b[33m\"\u001b[39m\u001b[33m/Users/vanshaj/Work/GitHub/Quant_Labs/Application/Data/Assets Data\u001b[39m\u001b[33m\"\u001b[39m   \u001b[38;5;66;03m# Change this folder name if needed\u001b[39;00m\n\u001b[32m---> \u001b[39m\u001b[32m12\u001b[39m \u001b[43mget_historical_data\u001b[49m\u001b[43m(\u001b[49m\u001b[43msymbol\u001b[49m\u001b[43m,\u001b[49m\u001b[43m \u001b[49m\u001b[43mseries\u001b[49m\u001b[43m,\u001b[49m\u001b[43m \u001b[49m\u001b[43mstart_date\u001b[49m\u001b[43m,\u001b[49m\u001b[43m \u001b[49m\u001b[43mend_date\u001b[49m\u001b[43m,\u001b[49m\u001b[43m \u001b[49m\u001b[43msave_folder\u001b[49m\u001b[43m)\u001b[49m\n",
      "\u001b[31mTypeError\u001b[39m: get_historical_data() missing 1 required positional argument: 'save_folder'"
     ]
    }
   ],
   "source": [
    "from data_coll import get_historical_data\n",
    "\n",
    "import pandas as pd\n",
    "df = pd.read_parquet(\"top50_indian_stocks.parquet\", engine=\"pyarrow\")\n",
    "symbols = df[\"Symbol\"].tolist()\n",
    "for symbol in symbols:\n",
    "    series = \"EQ\"\n",
    "    start_date = \"01-01-2020\"\n",
    "    end_date = \"31-12-2023\"\n",
    "    save_folder = \"/Users/vanshaj/Work/GitHub/Quant_Labs/Application/Data/Assets Data\"   # Change this folder name if needed\n",
    "\n",
    "    get_historical_data(symbol, series, start_date, end_date, save_folder)"
   ]
  }
 ],
 "metadata": {
  "kernelspec": {
   "display_name": "Python 3",
   "language": "python",
   "name": "python3"
  },
  "language_info": {
   "codemirror_mode": {
    "name": "ipython",
    "version": 3
   },
   "file_extension": ".py",
   "mimetype": "text/x-python",
   "name": "python",
   "nbconvert_exporter": "python",
   "pygments_lexer": "ipython3",
   "version": "3.12.11"
  }
 },
 "nbformat": 4,
 "nbformat_minor": 5
}
